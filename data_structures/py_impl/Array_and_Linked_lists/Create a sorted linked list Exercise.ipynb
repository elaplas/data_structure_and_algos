{
 "cells": [
  {
   "cell_type": "markdown",
   "metadata": {
    "graffitiCellId": "id_5d55rf6"
   },
   "source": [
    "## Create a sorted linked list\n",
    "\n",
    "Given a stream of random integers, create a linked list that is always sorted from ascending order (lowest to highest). What's the computational complexity of adding an element in this way?"
   ]
  },
  {
   "cell_type": "code",
   "execution_count": 3,
   "metadata": {
    "graffitiCellId": "id_uy4n9c2"
   },
   "outputs": [],
   "source": [
    "# Use this class as the nodes in your linked list\n",
    "class Node:\n",
    "    def __init__(self, value):\n",
    "        self.value = value\n",
    "        self.next = None\n",
    "    \n",
    "    def __repr__(self):\n",
    "        return str(self.value)"
   ]
  },
  {
   "cell_type": "code",
   "execution_count": 10,
   "metadata": {
    "graffitiCellId": "id_54y346f"
   },
   "outputs": [],
   "source": [
    "class SortedLinkedList:\n",
    "    def __init__(self):\n",
    "        self.head = None\n",
    "        \n",
    "    def append(self, value):\n",
    "        \"\"\"\n",
    "        Append a value to the Linked List in ascending sorted order\n",
    "\n",
    "        Args:\n",
    "           value(int): Value to add to Linked List\n",
    "        \"\"\"\n",
    "        \n",
    "        # TODO: Write your sorted append function here\n",
    "        if self.head is None:\n",
    "            self.head = Node(value)\n",
    "            return\n",
    "        \n",
    "        if value < self.head.value:\n",
    "            pre_head = self.head\n",
    "            self.head = Node(value)\n",
    "            self.head.next = pre_head\n",
    "            return\n",
    "        \n",
    "        cur_node = self.head\n",
    "        pre_node = None\n",
    "        while cur_node:\n",
    "            if value < cur_node.value:\n",
    "                new_node = Node(value)\n",
    "                pre_node.next = new_node\n",
    "                new_node.next = cur_node\n",
    "                return\n",
    "            \n",
    "            pre_node = cur_node\n",
    "            cur_node = cur_node.next\n",
    "            \n",
    "        pre_node.next = Node(value)\n",
    "        "
   ]
  },
  {
   "cell_type": "code",
   "execution_count": 11,
   "metadata": {
    "graffitiCellId": "id_f1gndvl"
   },
   "outputs": [
    {
     "name": "stdout",
     "output_type": "stream",
     "text": [
      "Pass\n",
      "Pass\n",
      "Pass\n"
     ]
    }
   ],
   "source": [
    "# Test cases\n",
    "linked_list = SortedLinkedList()\n",
    "linked_list.append(3)\n",
    "print (\"Pass\" if (linked_list.head.value == 3) else \"Fail\")\n",
    "\n",
    "linked_list.append(2)\n",
    "print (\"Pass\" if (linked_list.head.value == 2) else \"Fail\")\n",
    "\n",
    "linked_list.append(4)\n",
    "node = linked_list.head.next.next\n",
    "print (\"Pass\" if (node.value == 4) else \"Fail\")"
   ]
  },
  {
   "cell_type": "markdown",
   "metadata": {
    "graffitiCellId": "id_1lh8zt3"
   },
   "source": [
    "<span class=\"graffiti-highlight graffiti-id_1lh8zt3-id_jzo0637\"><i></i><button>Hide Solution</button></span>"
   ]
  },
  {
   "cell_type": "code",
   "execution_count": null,
   "metadata": {
    "graffitiCellId": "id_jzo0637"
   },
   "outputs": [],
   "source": [
    "# Solution\n",
    "\n",
    "class SortedLinkedList:\n",
    "    def __init__(self):\n",
    "        self.head = None\n",
    "    \n",
    "    def append(self, value):\n",
    "        \"\"\"\n",
    "        Append a value to the Linked List in ascending sorted order\n",
    "\n",
    "        Args:\n",
    "           value(int): Value to add to Linked List\n",
    "        \"\"\"\n",
    "        if self.head is None:\n",
    "            self.head = Node(value)\n",
    "            return\n",
    "        \n",
    "        if value < self.head.value:\n",
    "            node = Node(value)\n",
    "            node.next = self.head\n",
    "            self.head = node\n",
    "            return\n",
    "        \n",
    "        node = self.head\n",
    "        while node.next is not None and value >= node.next.value:\n",
    "            node = node.next\n",
    "            \n",
    "        new_node = Node(value)\n",
    "        new_node.next = node.next\n",
    "        node.next = new_node\n",
    "        \n",
    "        return None\n",
    "\n",
    "# Test cases\n",
    "linked_list = SortedLinkedList()\n",
    "linked_list.append(3)\n",
    "print (\"Pass\" if (linked_list.head.value == 3) else \"Fail\")\n",
    "\n",
    "linked_list.append(2)\n",
    "print (\"Pass\" if (linked_list.head.value == 2) else \"Fail\")\n",
    "\n",
    "linked_list.append(4)\n",
    "node = linked_list.head.next.next\n",
    "print (\"Pass\" if (node.value == 4) else \"Fail\")\n"
   ]
  },
  {
   "cell_type": "markdown",
   "metadata": {
    "graffitiCellId": "id_5rqxkq0"
   },
   "source": [
    "Computational complexity is $O(N)$ where $N$ is the current length of the linked list."
   ]
  },
  {
   "cell_type": "markdown",
   "metadata": {
    "graffitiCellId": "id_01gbzx6"
   },
   "source": [
    "### Additional question: Sort an array with this linked list\n",
    "\n",
    "Given an array of integers, use this linked list to sort them and return a sorted array. What's the computational complexity of this sorting algorithm? How does it compare to other sorting algorithms?"
   ]
  },
  {
   "cell_type": "code",
   "execution_count": 16,
   "metadata": {
    "graffitiCellId": "id_3948fxz"
   },
   "outputs": [],
   "source": [
    "def sort(array):\n",
    "    \"\"\"\n",
    "    Given an array of integers, use SortedLinkedList to sort them and return a sorted array.\n",
    "\n",
    "    Args:\n",
    "       array(array): Array of integers to be sorted\n",
    "    Returns:\n",
    "       array: Return sorted array\n",
    "    \"\"\"\n",
    "    \n",
    "    # TODO: Write your sorting function here\n",
    "    sorted_list = SortedLinkedList()\n",
    "    for el in array:\n",
    "        sorted_list.append(el)\n",
    "        \n",
    "    node = sorted_list.head\n",
    "    res = []\n",
    "    while node:\n",
    "        res.append(node.value)\n",
    "        node = node.next\n",
    "        \n",
    "    return res"
   ]
  },
  {
   "cell_type": "code",
   "execution_count": 15,
   "metadata": {
    "graffitiCellId": "id_sln0fai"
   },
   "outputs": [
    {
     "ename": "KeyboardInterrupt",
     "evalue": "",
     "output_type": "error",
     "traceback": [
      "\u001b[0;31m---------------------------------------------------------------------------\u001b[0m",
      "\u001b[0;31mKeyboardInterrupt\u001b[0m                         Traceback (most recent call last)",
      "\u001b[0;32m<ipython-input-15-c94eb3911ebd>\u001b[0m in \u001b[0;36m<module>\u001b[0;34m()\u001b[0m\n\u001b[1;32m      1\u001b[0m \u001b[0;31m# Test case\u001b[0m\u001b[0;34m\u001b[0m\u001b[0;34m\u001b[0m\u001b[0m\n\u001b[0;32m----> 2\u001b[0;31m \u001b[0mprint\u001b[0m \u001b[0;34m(\u001b[0m\u001b[0;34m\"Pass\"\u001b[0m \u001b[0;32mif\u001b[0m \u001b[0;34m(\u001b[0m\u001b[0msort\u001b[0m\u001b[0;34m(\u001b[0m\u001b[0;34m[\u001b[0m\u001b[0;36m4\u001b[0m\u001b[0;34m,\u001b[0m \u001b[0;36m8\u001b[0m\u001b[0;34m,\u001b[0m \u001b[0;36m2\u001b[0m\u001b[0;34m,\u001b[0m \u001b[0;36m1\u001b[0m\u001b[0;34m,\u001b[0m \u001b[0;34m-\u001b[0m\u001b[0;36m3\u001b[0m\u001b[0;34m,\u001b[0m \u001b[0;36m1\u001b[0m\u001b[0;34m,\u001b[0m \u001b[0;36m5\u001b[0m\u001b[0;34m]\u001b[0m\u001b[0;34m)\u001b[0m \u001b[0;34m==\u001b[0m \u001b[0;34m[\u001b[0m\u001b[0;34m-\u001b[0m\u001b[0;36m3\u001b[0m\u001b[0;34m,\u001b[0m \u001b[0;36m1\u001b[0m\u001b[0;34m,\u001b[0m \u001b[0;36m1\u001b[0m\u001b[0;34m,\u001b[0m \u001b[0;36m2\u001b[0m\u001b[0;34m,\u001b[0m \u001b[0;36m4\u001b[0m\u001b[0;34m,\u001b[0m \u001b[0;36m5\u001b[0m\u001b[0;34m,\u001b[0m \u001b[0;36m8\u001b[0m\u001b[0;34m]\u001b[0m\u001b[0;34m)\u001b[0m \u001b[0;32melse\u001b[0m \u001b[0;34m\"Fail\"\u001b[0m\u001b[0;34m)\u001b[0m\u001b[0;34m\u001b[0m\u001b[0m\n\u001b[0m",
      "\u001b[0;32m<ipython-input-14-8f540a6ed918>\u001b[0m in \u001b[0;36msort\u001b[0;34m(array)\u001b[0m\n\u001b[1;32m     16\u001b[0m     \u001b[0mnode\u001b[0m \u001b[0;34m=\u001b[0m \u001b[0msorted_list\u001b[0m\u001b[0;34m.\u001b[0m\u001b[0mhead\u001b[0m\u001b[0;34m\u001b[0m\u001b[0m\n\u001b[1;32m     17\u001b[0m     \u001b[0mres\u001b[0m \u001b[0;34m=\u001b[0m \u001b[0;34m[\u001b[0m\u001b[0;34m]\u001b[0m\u001b[0;34m\u001b[0m\u001b[0m\n\u001b[0;32m---> 18\u001b[0;31m     \u001b[0;32mwhile\u001b[0m \u001b[0mnode\u001b[0m\u001b[0;34m:\u001b[0m\u001b[0;34m\u001b[0m\u001b[0m\n\u001b[0m\u001b[1;32m     19\u001b[0m         \u001b[0mres\u001b[0m\u001b[0;34m.\u001b[0m\u001b[0mappend\u001b[0m\u001b[0;34m(\u001b[0m\u001b[0mnode\u001b[0m\u001b[0;34m.\u001b[0m\u001b[0mvalue\u001b[0m\u001b[0;34m)\u001b[0m\u001b[0;34m\u001b[0m\u001b[0m\n\u001b[1;32m     20\u001b[0m \u001b[0;34m\u001b[0m\u001b[0m\n",
      "\u001b[0;31mKeyboardInterrupt\u001b[0m: "
     ]
    }
   ],
   "source": [
    "# Test case\n",
    "print (\"Pass\" if (sort([4, 8, 2, 1, -3, 1, 5]) == [-3, 1, 1, 2, 4, 5, 8]) else \"Fail\")"
   ]
  },
  {
   "cell_type": "markdown",
   "metadata": {
    "graffitiCellId": "id_1vhopm0"
   },
   "source": [
    "<span class=\"graffiti-highlight graffiti-id_1vhopm0-id_p1rrwsl\"><i></i><button>Show Solution</button></span>"
   ]
  },
  {
   "cell_type": "markdown",
   "metadata": {
    "graffitiCellId": "id_syirswf"
   },
   "source": [
    "Computational complexity is $O(N^2)$ where N is the length of the integer array. One insert is $O(M)$ where $M$ is the length of the existing linked list. As the list grows, the time complexity of inserting grows. It's something like $1 + 2 + 3 + 4 + \\cdots + N$.\n",
    "\n",
    "$$\n",
    "1 + 2 + 3 + 4 + \\cdots + N = \\sum_n^N n = \\frac{N(N+1)}{2}\n",
    "$$\n",
    "\n",
    "Then our time complexity for sorting itself is $O(N^2)$.  Converting from the linked list to an array is $O(N)$. Combined this is $O(N^2 + N) = O(N^2)$. Sorting algorithms such as quicksort and mergesort (which we'll look at later) are $N \\log N$, so this algorithm is slower."
   ]
  },
  {
   "cell_type": "code",
   "execution_count": null,
   "metadata": {
    "graffitiCellId": "id_6fguts2"
   },
   "outputs": [],
   "source": []
  }
 ],
 "metadata": {
  "graffiti": {
   "firstAuthorId": "10694620118",
   "id": "id_r353lsv",
   "language": "EN"
  },
  "kernelspec": {
   "display_name": "Python 3",
   "language": "python",
   "name": "python3"
  },
  "language_info": {
   "codemirror_mode": {
    "name": "ipython",
    "version": 3
   },
   "file_extension": ".py",
   "mimetype": "text/x-python",
   "name": "python",
   "nbconvert_exporter": "python",
   "pygments_lexer": "ipython3",
   "version": "3.6.3"
  }
 },
 "nbformat": 4,
 "nbformat_minor": 2
}
