{
 "cells": [
  {
   "cell_type": "markdown",
   "metadata": {
    "graffitiCellId": "id_d0572r6"
   },
   "source": [
    "# Build a Queue From Stacks"
   ]
  },
  {
   "cell_type": "markdown",
   "metadata": {
    "graffitiCellId": "id_bfzc7zi"
   },
   "source": [
    "In this exercise we are going to create a queue with just stacks."
   ]
  },
  {
   "cell_type": "markdown",
   "metadata": {
    "graffitiCellId": "id_hyxoxmu"
   },
   "source": [
    "#### Code"
   ]
  },
  {
   "cell_type": "code",
   "execution_count": 6,
   "metadata": {
    "graffitiCellId": "id_u8iro3g"
   },
   "outputs": [],
   "source": [
    "# Here is our Stack Class\n",
    "\n",
    "class Stack:\n",
    "    def __init__(self):\n",
    "        self.items = []\n",
    "    \n",
    "    def size(self):\n",
    "        return len(self.items)\n",
    "    \n",
    "    def push(self, item):\n",
    "        self.items.append(item)\n",
    "\n",
    "    def pop(self):\n",
    "        if self.size()==0:\n",
    "            return None\n",
    "        else:\n",
    "            return self.items.pop()\n",
    "\n",
    "class Queue:\n",
    "    def __init__(self):\n",
    "        self.in_storage = Stack()\n",
    "        self.out_storage = Stack()\n",
    "        \n",
    "    def size(self):\n",
    "         return  self.in_storage.size() + self.out_storage.size()\n",
    "        \n",
    "    def enqueue(self,item):\n",
    "        self.in_storage.push(item)\n",
    "        \n",
    "    def dequeue(self):\n",
    "        # Code here\n",
    "        if self.in_storage.size() + self.out_storage.size() == 0:\n",
    "            return None\n",
    "        if not self.out_storage.size():\n",
    "            while self.in_storage.size():\n",
    "                self.out_storage.push(self.in_storage.pop())\n",
    "        return self.out_storage.pop()"
   ]
  },
  {
   "cell_type": "markdown",
   "metadata": {
    "graffitiCellId": "id_3ahdavv"
   },
   "source": [
    "#### Test Cases"
   ]
  },
  {
   "cell_type": "code",
   "execution_count": 5,
   "metadata": {
    "graffitiCellId": "id_jcf215k"
   },
   "outputs": [
    {
     "name": "stdout",
     "output_type": "stream",
     "text": [
      "Pass\n"
     ]
    },
    {
     "ename": "AttributeError",
     "evalue": "'Queue' object has no attribute 'in_storge'",
     "output_type": "error",
     "traceback": [
      "\u001b[0;31m---------------------------------------------------------------------------\u001b[0m",
      "\u001b[0;31mAttributeError\u001b[0m                            Traceback (most recent call last)",
      "\u001b[0;32m<ipython-input-5-d3c484a41dbc>\u001b[0m in \u001b[0;36m<module>\u001b[0;34m()\u001b[0m\n\u001b[1;32m      9\u001b[0m \u001b[0;34m\u001b[0m\u001b[0m\n\u001b[1;32m     10\u001b[0m \u001b[0;31m# Test dequeue\u001b[0m\u001b[0;34m\u001b[0m\u001b[0;34m\u001b[0m\u001b[0m\n\u001b[0;32m---> 11\u001b[0;31m \u001b[0mprint\u001b[0m \u001b[0;34m(\u001b[0m\u001b[0;34m\"Pass\"\u001b[0m \u001b[0;32mif\u001b[0m \u001b[0;34m(\u001b[0m\u001b[0mq\u001b[0m\u001b[0;34m.\u001b[0m\u001b[0mdequeue\u001b[0m\u001b[0;34m(\u001b[0m\u001b[0;34m)\u001b[0m \u001b[0;34m==\u001b[0m \u001b[0;36m1\u001b[0m\u001b[0;34m)\u001b[0m \u001b[0;32melse\u001b[0m \u001b[0;34m\"Fail\"\u001b[0m\u001b[0;34m)\u001b[0m\u001b[0;34m\u001b[0m\u001b[0m\n\u001b[0m\u001b[1;32m     12\u001b[0m \u001b[0;34m\u001b[0m\u001b[0m\n\u001b[1;32m     13\u001b[0m \u001b[0;31m# Test enqueue\u001b[0m\u001b[0;34m\u001b[0m\u001b[0;34m\u001b[0m\u001b[0m\n",
      "\u001b[0;32m<ipython-input-4-6277b4c36812>\u001b[0m in \u001b[0;36mdequeue\u001b[0;34m(self)\u001b[0m\n\u001b[1;32m     30\u001b[0m     \u001b[0;32mdef\u001b[0m \u001b[0mdequeue\u001b[0m\u001b[0;34m(\u001b[0m\u001b[0mself\u001b[0m\u001b[0;34m)\u001b[0m\u001b[0;34m:\u001b[0m\u001b[0;34m\u001b[0m\u001b[0m\n\u001b[1;32m     31\u001b[0m         \u001b[0;31m# Code here\u001b[0m\u001b[0;34m\u001b[0m\u001b[0;34m\u001b[0m\u001b[0m\n\u001b[0;32m---> 32\u001b[0;31m         \u001b[0;32mif\u001b[0m \u001b[0mself\u001b[0m\u001b[0;34m.\u001b[0m\u001b[0min_storge\u001b[0m\u001b[0;34m.\u001b[0m\u001b[0msize\u001b[0m\u001b[0;34m(\u001b[0m\u001b[0;34m)\u001b[0m \u001b[0;34m+\u001b[0m \u001b[0mself\u001b[0m\u001b[0;34m.\u001b[0m\u001b[0mout_storage\u001b[0m\u001b[0;34m.\u001b[0m\u001b[0msize\u001b[0m\u001b[0;34m(\u001b[0m\u001b[0;34m)\u001b[0m \u001b[0;34m==\u001b[0m \u001b[0;36m0\u001b[0m\u001b[0;34m:\u001b[0m\u001b[0;34m\u001b[0m\u001b[0m\n\u001b[0m\u001b[1;32m     33\u001b[0m             \u001b[0;32mreturn\u001b[0m \u001b[0;32mNone\u001b[0m\u001b[0;34m\u001b[0m\u001b[0m\n\u001b[1;32m     34\u001b[0m         \u001b[0;32mif\u001b[0m \u001b[0;32mnot\u001b[0m \u001b[0mself\u001b[0m\u001b[0;34m.\u001b[0m\u001b[0mout_storage\u001b[0m\u001b[0;34m.\u001b[0m\u001b[0msize\u001b[0m\u001b[0;34m(\u001b[0m\u001b[0;34m)\u001b[0m\u001b[0;34m:\u001b[0m\u001b[0;34m\u001b[0m\u001b[0m\n",
      "\u001b[0;31mAttributeError\u001b[0m: 'Queue' object has no attribute 'in_storge'"
     ]
    }
   ],
   "source": [
    "# Setup\n",
    "q = Queue()\n",
    "q.enqueue(1)\n",
    "q.enqueue(2)\n",
    "q.enqueue(3)\n",
    "\n",
    "# Test size\n",
    "print (\"Pass\" if (q.size() == 3) else \"Fail\")\n",
    "\n",
    "# Test dequeue\n",
    "print (\"Pass\" if (q.dequeue() == 1) else \"Fail\")\n",
    "\n",
    "# Test enqueue\n",
    "q.enqueue(4)\n",
    "print (\"Pass\" if (q.dequeue() == 2) else \"Fail\")\n",
    "print (\"Pass\" if (q.dequeue() == 3) else \"Fail\")\n",
    "print (\"Pass\" if (q.dequeue() == 4) else \"Fail\")\n",
    "q.enqueue(5)\n",
    "print (\"Pass\" if (q.size() == 1) else \"Fail\")"
   ]
  },
  {
   "cell_type": "code",
   "execution_count": null,
   "metadata": {
    "graffitiCellId": "id_97b5vv7"
   },
   "outputs": [],
   "source": [
    "# Solution \n",
    "\n",
    "# Here is our Stack Class\n",
    "\n",
    "class Stack:\n",
    "    def __init__(self):\n",
    "        self.items = []\n",
    "    \n",
    "    def size(self):\n",
    "        return len(self.items)\n",
    "    \n",
    "    def push(self, item):\n",
    "        self.items.append(item)\n",
    "\n",
    "    def pop(self):\n",
    "        if self.size()==0:\n",
    "            return None\n",
    "        else:\n",
    "            return self.items.pop()\n",
    "\n",
    "class Queue:\n",
    "    def __init__(self):\n",
    "        self.instorage=Stack()\n",
    "        self.outstorage=Stack()\n",
    "        \n",
    "    def size(self):\n",
    "         return self.outstorage.size() + self.instorage.size()\n",
    "        \n",
    "    def enqueue(self,item):\n",
    "        self.instorage.push(item)\n",
    "        \n",
    "    def dequeue(self):\n",
    "        if not self.outstorage.items:\n",
    "            while self.instorage.items:\n",
    "                self.outstorage.push(self.instorage.pop())\n",
    "        return self.outstorage.pop()\n",
    "    \n",
    "        \n",
    "# Setup\n",
    "q = Queue()\n",
    "q.enqueue(1)\n",
    "q.enqueue(2)\n",
    "q.enqueue(3)\n",
    "\n",
    "# Test size\n",
    "print (\"Pass\" if (q.size() == 3) else \"Fail\")\n",
    "\n",
    "# Test dequeue\n",
    "print (\"Pass\" if (q.dequeue() == 1) else \"Fail\")\n",
    "\n",
    "# Test enqueue\n",
    "q.enqueue(4)\n",
    "print (\"Pass\" if (q.dequeue() == 2) else \"Fail\")\n",
    "print (\"Pass\" if (q.dequeue() == 3) else \"Fail\")\n",
    "print (\"Pass\" if (q.dequeue() == 4) else \"Fail\")\n",
    "q.enqueue(5)\n",
    "print (\"Pass\" if (q.size() == 1) else \"Fail\") \n"
   ]
  },
  {
   "cell_type": "markdown",
   "metadata": {
    "graffitiCellId": "id_uzpn3v5"
   },
   "source": [
    "<span class=\"graffiti-highlight graffiti-id_uzpn3v5-id_97b5vv7\"><i></i><button>Show Solution</button></span>"
   ]
  }
 ],
 "metadata": {
  "graffiti": {
   "firstAuthorId": "10694620118",
   "id": "id_hnsofe2",
   "language": "EN"
  },
  "kernelspec": {
   "display_name": "Python 3",
   "language": "python",
   "name": "python3"
  },
  "language_info": {
   "codemirror_mode": {
    "name": "ipython",
    "version": 3
   },
   "file_extension": ".py",
   "mimetype": "text/x-python",
   "name": "python",
   "nbconvert_exporter": "python",
   "pygments_lexer": "ipython3",
   "version": "3.6.3"
  }
 },
 "nbformat": 4,
 "nbformat_minor": 2
}
