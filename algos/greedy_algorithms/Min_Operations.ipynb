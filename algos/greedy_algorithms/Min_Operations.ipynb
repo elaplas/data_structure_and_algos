{
 "cells": [
  {
   "cell_type": "markdown",
   "metadata": {
    "graffitiCellId": "id_mzvh44q"
   },
   "source": [
    "# Min Operations"
   ]
  },
  {
   "cell_type": "markdown",
   "metadata": {
    "graffitiCellId": "id_v1yva3c"
   },
   "source": [
    "Starting from the number `0`, find the minimum number of operations required to reach a given positive `target number`. You can only use the following two operations:\n",
    "\n",
    "    1. Add 1\n",
    "    2. Double the number\n",
    "    \n",
    "### Example:\n",
    "\n",
    "1. For `Target = 18`,  `output = 6`, because it takes at least 6 steps shown below to reach the target\n",
    "\n",
    " * `start = 0`\n",
    " * `step 1 ==> 0 + 1 = 1`\n",
    " * `step 2 ==> 1 * 2 = 2`              # or 1 + 1 = 2\n",
    " * `step 3 ==> 2 * 2 = 4`\n",
    " * `step 4 ==> 4 * 2 = 8`\n",
    " * `step 5 ==> 8 + 1 = 9`\n",
    " * `step 6 ==> 9 * 2 = 18`\n",
    "\n",
    " \n",
    "\n",
    "2. For `Target = 69`, `output = 9`, because it takes at least 8 steps to reach `69` from `0` using the allowed operations\n",
    "\n",
    " * `start = 0`\n",
    " * `step 1 ==> 0 + 1 = 1`\n",
    " * `step 2 ==> 1 + 1 = 2`\n",
    " * `step 3 ==> 2 * 2 = 4`\n",
    " * `step 4 ==> 4 * 2 = 8`\n",
    " * `step 5 ==> 8 * 2 = 16`\n",
    " * `step 6 ==> 16 + 1 = 17`\n",
    " * `step 7 ==> 17 * 2 = 34`\n",
    " * `step 8 ==> 34 * 2 = 68`\n",
    " * `step 9 ==> 68 + 1  = 69`\n",
    "\n"
   ]
  },
  {
   "cell_type": "code",
   "execution_count": 26,
   "metadata": {
    "graffitiCellId": "id_1d4ti1y"
   },
   "outputs": [],
   "source": [
    "# Your solution\n",
    "def min_operations(n):\n",
    "    \"\"\"\n",
    "    Return number of steps taken to reach a target number\n",
    "    input: target number (as an integer)\n",
    "    output: number of steps (as an integer)\n",
    "    \"\"\"\n",
    "    return min_operand(1, n, 0 ) + 1\n",
    "\n",
    "def min_operand(guess, target, num_operands):\n",
    "    \n",
    "    if guess == target:\n",
    "        return num_operands\n",
    "    \n",
    "    if guess > target:\n",
    "        return num_operands * 1000 # Multiply with a big number to disqualify the solution\n",
    "    \n",
    "    \n",
    "    sol_1 = min_operand(guess+1, target, num_operands+1)\n",
    "    sol_2 = min_operand(guess*2, target, num_operands+1)\n",
    "    \n",
    "    return min(sol_1, sol_2)\n",
    "        \n",
    "        \n",
    "    \n",
    "    "
   ]
  },
  {
   "cell_type": "code",
   "execution_count": 27,
   "metadata": {
    "graffitiCellId": "id_qtaglkw"
   },
   "outputs": [],
   "source": [
    "# Test Cases\n",
    "\n",
    "def test_function(test_case):\n",
    "    target = test_case[0]\n",
    "    solution = test_case[1]\n",
    "    output = min_operations(target)\n",
    "    \n",
    "    print(output)\n",
    "    \n",
    "    if output == solution:\n",
    "        print(\"Pass\")\n",
    "    else:\n",
    "        print(\"Fail\")"
   ]
  },
  {
   "cell_type": "code",
   "execution_count": 28,
   "metadata": {
    "graffitiCellId": "id_x80vrjt"
   },
   "outputs": [
    {
     "name": "stdout",
     "output_type": "stream",
     "text": [
      "6\n",
      "Pass\n"
     ]
    }
   ],
   "source": [
    "target = 18\n",
    "solution = 6\n",
    "test_case = [target, solution]\n",
    "test_function(test_case)"
   ]
  },
  {
   "cell_type": "code",
   "execution_count": 29,
   "metadata": {
    "graffitiCellId": "id_0c3qlrn"
   },
   "outputs": [
    {
     "name": "stdout",
     "output_type": "stream",
     "text": [
      "9\n",
      "Pass\n"
     ]
    }
   ],
   "source": [
    "target = 69\n",
    "solution = 9\n",
    "test_case = [target, solution]\n",
    "test_function(test_case)"
   ]
  },
  {
   "cell_type": "code",
   "execution_count": null,
   "metadata": {
    "graffitiCellId": "id_lhrilt9"
   },
   "outputs": [],
   "source": [
    "def min_operations(target):\n",
    "    \"\"\"\n",
    "    Return number of steps taken to reach a target number\n",
    "    input:- target number an integer\n",
    "    output:- number of steps an integer\n",
    "    \"\"\"\n",
    "    num_steps = 0\n",
    "    \n",
    "    # start backwards from the target\n",
    "    # if target is odd --> subtract 1\n",
    "    # if target is even --> divide by 2\n",
    "    while target != 0:\n",
    "        if target % 2 == 0:\n",
    "            target = target // 2\n",
    "\n",
    "        else:\n",
    "            target = target - 1\n",
    "        num_steps += 1\n",
    "    return num_steps"
   ]
  },
  {
   "cell_type": "markdown",
   "metadata": {
    "graffitiCellId": "id_smc71m1"
   },
   "source": [
    "<span class=\"graffiti-highlight graffiti-id_smc71m1-id_lhrilt9\"><i></i><button>Show Solution</button></span>"
   ]
  }
 ],
 "metadata": {
  "graffiti": {
   "firstAuthorId": "10694620118",
   "id": "id_l7u9zeh",
   "language": "EN"
  },
  "kernelspec": {
   "display_name": "Python 3",
   "language": "python",
   "name": "python3"
  },
  "language_info": {
   "codemirror_mode": {
    "name": "ipython",
    "version": 3
   },
   "file_extension": ".py",
   "mimetype": "text/x-python",
   "name": "python",
   "nbconvert_exporter": "python",
   "pygments_lexer": "ipython3",
   "version": "3.6.3"
  }
 },
 "nbformat": 4,
 "nbformat_minor": 2
}
