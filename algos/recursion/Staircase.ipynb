{
 "cells": [
  {
   "cell_type": "markdown",
   "metadata": {
    "graffitiCellId": "id_v5swjqy"
   },
   "source": [
    "### Problem Statement\n",
    "\n",
    "Suppose there is a staircase that you can climb in either 1 step, 2 steps, or 3 steps. In how many possible ways can you climb the staircase if the staircase has `n` steps? Write a recursive function to solve the problem.\n",
    "\n",
    "**Example:**\n",
    "\n",
    "* `n == 1` then `answer = 1`\n",
    "\n",
    "* `n == 3` then `answer = 4`<br>\n",
    "   The output is `4` because there are four ways we can climb the staircase:\n",
    "    - 1 step +  1 step + 1 step\n",
    "    - 1 step + 2 steps \n",
    "    - 2 steps + 1 step\n",
    "    - 3 steps\n",
    "* `n == 5` then `answer = 13`\n"
   ]
  },
  {
   "cell_type": "markdown",
   "metadata": {
    "graffitiCellId": "id_74s7rzj"
   },
   "source": [
    "### Exercise - Write a recursive function to solve this problem"
   ]
  },
  {
   "cell_type": "code",
   "execution_count": 34,
   "metadata": {
    "graffitiCellId": "id_yv3ymjf"
   },
   "outputs": [],
   "source": [
    "\"\"\"\n",
    "param: n - number of steps in the staircase\n",
    "Return number of possible ways in which you can climb the staircase\n",
    "\"\"\"\n",
    "def staircase(n):\n",
    "    if n == 0:\n",
    "        return 1\n",
    "\n",
    "    res_1 = 0\n",
    "    if n-1 >=0:\n",
    "        res_1 += staircase(n-1) \n",
    "\n",
    "    res_2 = 0\n",
    "    if n-2 >=0:\n",
    "        res_2 += staircase(n-2) \n",
    "\n",
    "    res_3 = 0\n",
    "    if n-1 >=0:\n",
    "        res_3 += staircase(n-3) \n",
    "\n",
    "    return res_1 + res_2 + res_3\n",
    "\n",
    "\n",
    "\n",
    "    "
   ]
  },
  {
   "cell_type": "code",
   "execution_count": null,
   "metadata": {
    "graffitiCellId": "id_brqvnra"
   },
   "outputs": [],
   "source": [
    "# Solution\n",
    "## Read input as specified in the question.\n",
    "## Print output as specified in the question.\n",
    "\n",
    "\n",
    "def staircase(n):\n",
    "    if n <= 0:\n",
    "        return 1\n",
    "    \n",
    "    if n == 1:\n",
    "        return 1\n",
    "    elif n == 2:\n",
    "        return 2\n",
    "    elif n == 3:\n",
    "        return 4\n",
    "    \n",
    "    return staircase(n - 1) + staircase(n - 2) + staircase(n - 3)"
   ]
  },
  {
   "cell_type": "markdown",
   "metadata": {
    "graffitiCellId": "id_w7lklez"
   },
   "source": [
    "<span class=\"graffiti-highlight graffiti-id_w7lklez-id_brqvnra\"><i></i><button>Show Solution</button></span>"
   ]
  },
  {
   "cell_type": "code",
   "execution_count": null,
   "metadata": {},
   "outputs": [],
   "source": [
    "def staircase(n):\n",
    "    '''Hint'''\n",
    "    # Base Case - What holds true for minimum steps possible i.e., n == 0, 1, 2 or 3? Return the number of ways the child can climb n steps.\n",
    "    \n",
    "    # Recursive Step - Split the solution into base case if n > 3.\n",
    "    res = staircase_recursive(n)\n",
    "    print(res)\n",
    "    print(len(res))\n",
    "    return len(res)\n",
    "\n",
    "\n",
    "def staircase_recursive(n):\n",
    "    \n",
    "    if n == 0:\n",
    "        return [[]]\n",
    "    \n",
    "    sub_list_1 = None\n",
    "    if n-1 >= 0:\n",
    "        sub_list_1 = staircase_recursive(n-1)\n",
    "        for a_list in sub_list_1:\n",
    "            a_list.append(1)\n",
    "           \n",
    "            \n",
    "    sub_list_2 = None\n",
    "    if n-2 >= 0:\n",
    "        sub_list_2 = staircase_recursive(n-2)\n",
    "        for a_list in sub_list_2:\n",
    "            a_list.append(2)\n",
    "            \n",
    "    \n",
    "    sub_list_3 = None\n",
    "    if n-3 >= 0:\n",
    "        sub_list_3 = staircase_recursive(n-3)\n",
    "        for a_list in sub_list_3:\n",
    "            a_list.append(3)\n",
    "            \n",
    "    final_list = []\n",
    "    if sub_list_1 is not None:\n",
    "        final_list = final_list + sub_list_1\n",
    "        \n",
    "    if sub_list_2 is not None:\n",
    "        final_list = final_list + sub_list_2\n",
    "        \n",
    "    if sub_list_3 is not None:\n",
    "        final_list = final_list + sub_list_3\n",
    "    \n",
    "    return final_list\n",
    "    "
   ]
  },
  {
   "cell_type": "code",
   "execution_count": null,
   "metadata": {},
   "outputs": [],
   "source": [
    "def test_function(test_case):\n",
    "    n = test_case[0]\n",
    "    solution = test_case[1]\n",
    "    output = staircase(n)\n",
    "    if output == solution:\n",
    "        print(\"Pass\")\n",
    "    else:\n",
    "        print(\"Fail\")"
   ]
  },
  {
   "cell_type": "code",
   "execution_count": 36,
   "metadata": {
    "graffitiCellId": "id_6g7yxbj"
   },
   "outputs": [
    {
     "name": "stdout",
     "output_type": "stream",
     "text": [
      "[[1, 1, 1], [2, 1], [1, 2], [3]]\n",
      "4\n",
      "Pass\n"
     ]
    }
   ],
   "source": [
    "n = 3\n",
    "solution = 4\n",
    "test_case = [n, solution]\n",
    "test_function(test_case)"
   ]
  },
  {
   "cell_type": "code",
   "execution_count": 37,
   "metadata": {
    "graffitiCellId": "id_1q0pz7y"
   },
   "outputs": [
    {
     "name": "stdout",
     "output_type": "stream",
     "text": [
      "[[1, 1, 1, 1], [2, 1, 1], [1, 2, 1], [3, 1], [1, 1, 2], [2, 2], [1, 3]]\n",
      "7\n",
      "Pass\n"
     ]
    }
   ],
   "source": [
    "n = 4\n",
    "solution = 7\n",
    "test_case = [n, solution]\n",
    "test_function(test_case)"
   ]
  },
  {
   "cell_type": "code",
   "execution_count": 38,
   "metadata": {
    "graffitiCellId": "id_p3uxb7h"
   },
   "outputs": [
    {
     "name": "stdout",
     "output_type": "stream",
     "text": [
      "[[1, 1, 1, 1, 1, 1, 1], [2, 1, 1, 1, 1, 1], [1, 2, 1, 1, 1, 1], [3, 1, 1, 1, 1], [1, 1, 2, 1, 1, 1], [2, 2, 1, 1, 1], [1, 3, 1, 1, 1], [1, 1, 1, 2, 1, 1], [2, 1, 2, 1, 1], [1, 2, 2, 1, 1], [3, 2, 1, 1], [1, 1, 3, 1, 1], [2, 3, 1, 1], [1, 1, 1, 1, 2, 1], [2, 1, 1, 2, 1], [1, 2, 1, 2, 1], [3, 1, 2, 1], [1, 1, 2, 2, 1], [2, 2, 2, 1], [1, 3, 2, 1], [1, 1, 1, 3, 1], [2, 1, 3, 1], [1, 2, 3, 1], [3, 3, 1], [1, 1, 1, 1, 1, 2], [2, 1, 1, 1, 2], [1, 2, 1, 1, 2], [3, 1, 1, 2], [1, 1, 2, 1, 2], [2, 2, 1, 2], [1, 3, 1, 2], [1, 1, 1, 2, 2], [2, 1, 2, 2], [1, 2, 2, 2], [3, 2, 2], [1, 1, 3, 2], [2, 3, 2], [1, 1, 1, 1, 3], [2, 1, 1, 3], [1, 2, 1, 3], [3, 1, 3], [1, 1, 2, 3], [2, 2, 3], [1, 3, 3]]\n",
      "44\n",
      "Pass\n"
     ]
    }
   ],
   "source": [
    "n = 7\n",
    "solution = 44\n",
    "test_case = [n, solution]\n",
    "test_function(test_case)"
   ]
  },
  {
   "cell_type": "code",
   "execution_count": null,
   "metadata": {
    "graffitiCellId": "id_kvn9ip0"
   },
   "outputs": [],
   "source": []
  }
 ],
 "metadata": {
  "graffiti": {
   "firstAuthorId": "dev",
   "id": "id_qnn6fxn",
   "language": "EN"
  },
  "kernelspec": {
   "display_name": "Python 3",
   "language": "python",
   "name": "python3"
  },
  "language_info": {
   "codemirror_mode": {
    "name": "ipython",
    "version": 3
   },
   "file_extension": ".py",
   "mimetype": "text/x-python",
   "name": "python",
   "nbconvert_exporter": "python",
   "pygments_lexer": "ipython3",
   "version": "3.6.3"
  }
 },
 "nbformat": 4,
 "nbformat_minor": 2
}
