{
 "cells": [
  {
   "cell_type": "markdown",
   "metadata": {
    "graffitiCellId": "id_8qbo8lo"
   },
   "source": [
    "# Heapsort\n",
    "\n",
    "A heapsort is an in-place sorting algorithm that treats an array like a binary tree and moves the largest values to the end of the heap until the full array is sorted.  \n",
    "\n",
    "The main steps in a heapsort are:\n",
    "1. Convert the array into a maxheap (a complete binary tree with decreasing values) \n",
    "2. Swap the top element with the last element in the array (putting it in it's correct final position)\n",
    "3. Repeat with `arr[:len(arr)-1]` (all but the sorted elements)\n",
    "\n",
    "## Visualization of a heapsort\n",
    "![animation of a heap sort](https://upload.wikimedia.org/wikipedia/commons/4/4d/Heapsort-example.gif)\n",
    "\n",
    "[\"Heapsort example\"](https://commons.wikimedia.org/wiki/File:Heapsort-example.gif) by Swfung8. Used under [CC BY-SA 3.0](https://creativecommons.org/licenses/by-sa/3.0/deed.en).\n",
    "\n",
    "## Problem statement\n",
    "\n",
    "In the cell below, see if you can code a `heapsort` function that takes an array (or Python list) and performs a heapsort on it. You will have to complete the heapify"
   ]
  },
  {
   "cell_type": "code",
   "execution_count": null,
   "metadata": {},
   "outputs": [],
   "source": [
    "\n",
    "# Neat and intuitive approach\n",
    "def heap_sort(arr):\n",
    "\n",
    "    for i in range(len(arr)):\n",
    "        heapify_up(arr, i)\n",
    "    \n",
    "    for i in range(len(arr)):\n",
    "        tmp = arr[len(arr)-1-i] \n",
    "        arr[len(arr)-1-i] = arr[0] \n",
    "        arr[0] = tmp\n",
    "        heapify_down(arr, len(arr)-i-1)\n",
    "\n",
    "def heapify_up(arr, i):\n",
    "    cur_child = i\n",
    "    while cur_child:\n",
    "        cur_parent = (cur_child-1)//2\n",
    "        if arr[cur_child] > arr[cur_parent]:\n",
    "            tmp = arr[cur_parent]\n",
    "            arr[cur_parent] = arr[cur_child]\n",
    "            arr[cur_child] = tmp\n",
    "            cur_child = cur_parent\n",
    "        else:\n",
    "            break\n",
    "    \n",
    "def heapify_down(arr, len_arr):\n",
    "    cur_parent = 0\n",
    "    while (cur_parent*2)+2 < len_arr:\n",
    "        left_child = (cur_parent*2)+1\n",
    "        right_child = (cur_parent*2)+2\n",
    "        cur_child = left_child\n",
    "        if arr[right_child] > arr[left_child]:\n",
    "            cur_child = right_child\n",
    "        if arr[cur_child] > arr[cur_parent]:\n",
    "            tmp = arr[cur_parent]\n",
    "            arr[cur_parent] = arr[cur_child]\n",
    "            arr[cur_child] = tmp\n",
    "            cur_parent = cur_child\n",
    "        else:\n",
    "            break"
   ]
  },
  {
   "cell_type": "code",
   "execution_count": 10,
   "metadata": {},
   "outputs": [],
   "source": [
    "def heapsort(arr):\n",
    "\n",
    "    # Build maxHeap\n",
    "    heapify_up(arr)\n",
    "    print(\"heapify up:\", arr)\n",
    "    \n",
    "    # Remove biggest elments, swap them with the elment at the end of arr and heapify down\n",
    "    for i in range(len(arr)):\n",
    "        cur_length = len(arr)-i\n",
    "        cur_biggest = arr[0]\n",
    "        arr[0] = arr[cur_length-1]\n",
    "        arr[cur_length-1] = cur_biggest\n",
    "        heapify_down(arr, cur_length-1)\n",
    "        print(\"heapify up:\", arr)\n",
    "    \n",
    "def heapify_up(arr):\n",
    "    \"\"\"\n",
    "    :param: arr - array to heapify\n",
    "    n -- number of elements in the array\n",
    "    i -- index of the current node\n",
    "    TODO: Converts an array (in place) into a maxheap, a complete binary tree with the largest values at the top\n",
    "    \"\"\"\n",
    "    for i in range(len(arr)):\n",
    "     \n",
    "        node = i\n",
    "        parent_node = node // 2\n",
    "                \n",
    "        while node >= 0 and parent_node >= 0:\n",
    "            \n",
    "            if arr[parent_node] < arr[node]:\n",
    "                tmp = arr[parent_node]\n",
    "                arr[parent_node] = arr[node]\n",
    "                arr[node ] = tmp\n",
    "                \n",
    "                node = parent_node\n",
    "                parent_node = node // 2\n",
    "            else:\n",
    "                break\n",
    "                \n",
    "def heapify_down(arr, length):\n",
    "    node = 0\n",
    "    left_node = 1\n",
    "    right_node = 2\n",
    "    swap_node = left_node\n",
    "    \n",
    "    if right_node < length and arr[right_node] > arr[left_node]:\n",
    "        swap_node = right_node\n",
    "        \n",
    "    while node < length and swap_node < length:\n",
    "        if arr[swap_node] > arr[node]:\n",
    "            tmp = arr[node]\n",
    "            arr[node] = arr[swap_node]\n",
    "            arr[swap_node] = tmp\n",
    "            \n",
    "            node = swap_node\n",
    "            left_node = node*2 + 1\n",
    "            right_node = node*2 + 2\n",
    "            swap_node = left_node\n",
    "            \n",
    "            if right_node < length and arr[right_node] > arr[left_node]:\n",
    "                swap_node = right_node\n",
    "        else:\n",
    "            break\n",
    "            \n",
    "            \n",
    "                   "
   ]
  },
  {
   "cell_type": "markdown",
   "metadata": {
    "graffitiCellId": "id_1h50lwk"
   },
   "source": [
    "<span class=\"graffiti-highlight graffiti-id_1h50lwk-id_kuae7he\"><i></i><button>Show Solution</button></span>"
   ]
  },
  {
   "cell_type": "code",
   "execution_count": 11,
   "metadata": {},
   "outputs": [],
   "source": [
    "def test_function(test_case):\n",
    "    heapsort(test_case[0])\n",
    "    if test_case[0] == test_case[1]:\n",
    "        print(\"Pass\")\n",
    "    else:\n",
    "        print(\"False\")"
   ]
  },
  {
   "cell_type": "code",
   "execution_count": 12,
   "metadata": {
    "graffitiCellId": "id_5z02ebi"
   },
   "outputs": [
    {
     "name": "stdout",
     "output_type": "stream",
     "text": [
      "[9, 9, 8, 7, 4, 5, 4, 6, 1, 3, 0, 3]\n",
      "[9, 7, 8, 6, 4, 5, 4, 3, 1, 3, 0, 9]\n",
      "[8, 7, 5, 6, 4, 0, 4, 3, 1, 3, 9, 9]\n",
      "[7, 6, 5, 3, 4, 0, 4, 3, 1, 8, 9, 9]\n",
      "[6, 4, 5, 3, 1, 0, 4, 3, 7, 8, 9, 9]\n",
      "[5, 4, 4, 3, 1, 0, 3, 6, 7, 8, 9, 9]\n",
      "[4, 3, 4, 3, 1, 0, 5, 6, 7, 8, 9, 9]\n",
      "[4, 3, 0, 3, 1, 4, 5, 6, 7, 8, 9, 9]\n",
      "[3, 3, 0, 1, 4, 4, 5, 6, 7, 8, 9, 9]\n",
      "[3, 1, 0, 3, 4, 4, 5, 6, 7, 8, 9, 9]\n",
      "[1, 0, 3, 3, 4, 4, 5, 6, 7, 8, 9, 9]\n",
      "[0, 1, 3, 3, 4, 4, 5, 6, 7, 8, 9, 9]\n",
      "[0, 1, 3, 3, 4, 4, 5, 6, 7, 8, 9, 9]\n",
      "Pass\n"
     ]
    }
   ],
   "source": [
    "arr = [3, 7, 4, 6, 1, 0, 9, 8, 9, 4, 3, 5]\n",
    "solution = [0, 1, 3, 3, 4, 4, 5, 6, 7, 8, 9, 9]\n",
    "\n",
    "test_case = [arr, solution]\n",
    "\n",
    "test_function(test_case)\n"
   ]
  },
  {
   "cell_type": "code",
   "execution_count": 13,
   "metadata": {},
   "outputs": [
    {
     "name": "stdout",
     "output_type": "stream",
     "text": [
      "[5, 5, 5, 4, 4, 3, 3, 4, 3, 4]\n",
      "[5, 4, 5, 4, 4, 3, 3, 4, 3, 5]\n",
      "[5, 4, 3, 4, 4, 3, 3, 4, 5, 5]\n",
      "[4, 4, 3, 4, 4, 3, 3, 5, 5, 5]\n",
      "[4, 4, 3, 3, 4, 3, 4, 5, 5, 5]\n",
      "[4, 4, 3, 3, 3, 4, 4, 5, 5, 5]\n",
      "[4, 3, 3, 3, 4, 4, 4, 5, 5, 5]\n",
      "[3, 3, 3, 4, 4, 4, 4, 5, 5, 5]\n",
      "[3, 3, 3, 4, 4, 4, 4, 5, 5, 5]\n",
      "[3, 3, 3, 4, 4, 4, 4, 5, 5, 5]\n",
      "[3, 3, 3, 4, 4, 4, 4, 5, 5, 5]\n",
      "Pass\n"
     ]
    }
   ],
   "source": [
    "arr = [5, 5, 5, 3, 3, 3, 4, 4, 4, 4]\n",
    "solution = [3, 3, 3, 4, 4, 4, 4, 5, 5, 5]\n",
    "test_case = [arr, solution]\n",
    "test_function(test_case)\n"
   ]
  },
  {
   "cell_type": "code",
   "execution_count": 14,
   "metadata": {},
   "outputs": [
    {
     "name": "stdout",
     "output_type": "stream",
     "text": [
      "[99]\n",
      "[99]\n",
      "Pass\n"
     ]
    }
   ],
   "source": [
    "arr = [99]\n",
    "solution = [99]\n",
    "test_case = [arr, solution]\n",
    "test_function(test_case)\n"
   ]
  },
  {
   "cell_type": "code",
   "execution_count": 15,
   "metadata": {},
   "outputs": [
    {
     "name": "stdout",
     "output_type": "stream",
     "text": [
      "[21, 12, 5, 1, 0, 2, 0]\n",
      "[12, 1, 5, 0, 0, 2, 21]\n",
      "[5, 1, 2, 0, 0, 12, 21]\n",
      "[2, 1, 0, 0, 5, 12, 21]\n",
      "[1, 0, 0, 2, 5, 12, 21]\n",
      "[0, 0, 1, 2, 5, 12, 21]\n",
      "[0, 0, 1, 2, 5, 12, 21]\n",
      "[0, 0, 1, 2, 5, 12, 21]\n",
      "Pass\n"
     ]
    }
   ],
   "source": [
    "arr = [0, 1, 2, 5, 12, 21, 0]\n",
    "solution = [0, 0, 1, 2, 5, 12, 21]\n",
    "test_case = [arr, solution]\n",
    "test_function(test_case)\n"
   ]
  },
  {
   "cell_type": "code",
   "execution_count": null,
   "metadata": {
    "graffitiCellId": "id_gwu2qvk"
   },
   "outputs": [],
   "source": []
  }
 ],
 "metadata": {
  "graffiti": {
   "firstAuthorId": "10694620118",
   "id": "id_57afwqr",
   "language": "EN"
  },
  "kernelspec": {
   "display_name": "Python 3",
   "language": "python",
   "name": "python3"
  },
  "language_info": {
   "codemirror_mode": {
    "name": "ipython",
    "version": 3
   },
   "file_extension": ".py",
   "mimetype": "text/x-python",
   "name": "python",
   "nbconvert_exporter": "python",
   "pygments_lexer": "ipython3",
   "version": "3.6.3"
  }
 },
 "nbformat": 4,
 "nbformat_minor": 2
}
