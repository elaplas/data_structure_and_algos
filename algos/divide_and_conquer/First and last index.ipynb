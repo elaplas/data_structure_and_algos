{
 "cells": [
  {
   "cell_type": "markdown",
   "metadata": {
    "graffitiCellId": "id_pr3r54a"
   },
   "source": [
    "## Problem statement\n",
    "\n",
    "Given a sorted array that may have duplicate values, use *binary search* to find the **first** and **last** indexes of a given value.\n",
    "\n",
    "For example, if you have the array `[0, 1, 2, 2, 3, 3, 3, 4, 5, 6]` and the given value is `3`, the answer will be `[4, 6]` (because the value `3` occurs first at index `4` and last at index `6` in the array).\n",
    "\n",
    "The expected complexity of the problem is $O(log(n))$."
   ]
  },
  {
   "cell_type": "code",
   "execution_count": 65,
   "metadata": {
    "graffitiCellId": "id_stslkm6"
   },
   "outputs": [],
   "source": [
    "\n",
    "\n",
    "\n",
    "def first_and_last_index(arr, number):\n",
    "    \"\"\"\n",
    "    Given a sorted array that may have duplicate values, use binary \n",
    "    search to find the first and last indexes of a given value.\n",
    "\n",
    "    Args:\n",
    "        arr(list): Sorted array (or Python list) that may have duplicate values\n",
    "        number(int): Value to search for in the array\n",
    "    Returns:\n",
    "        a list containing the first and last indexes of the given value\n",
    "    \"\"\"\n",
    "    start_index = 0\n",
    "    end_index = len(arr)\n",
    "    while start_index < end_index:\n",
    "        mid_index = ( start_index + end_index ) // 2\n",
    "        if arr[mid_index] == number:\n",
    "            first_occurrence = second_occurrence = mid_index\n",
    "            while first_occurrence and arr[first_occurrence] == arr[first_occurrence-1]:\n",
    "                    first_occurrence -= 1\n",
    "            while second_occurrence < len(arr)-1 and arr[second_occurrence] == arr[second_occurrence+1]:\n",
    "                    second_occurrence += 1   \n",
    "            return [first_occurrence, second_occurrence]\n",
    "            \n",
    "        elif number < arr[mid_index]:\n",
    "            end_index = mid_index - 1\n",
    "        else:\n",
    "            start_index = mid_index + 1\n",
    "    \n",
    "    return [-1,-1]"
   ]
  },
  {
   "cell_type": "markdown",
   "metadata": {
    "graffitiCellId": "id_y3lxp1x"
   },
   "source": [
    "<span class=\"graffiti-highlight graffiti-id_y3lxp1x-id_fkngaks\"><i></i><button>Hide Solution</button></span>"
   ]
  },
  {
   "cell_type": "code",
   "execution_count": null,
   "metadata": {
    "graffitiCellId": "id_fkngaks"
   },
   "outputs": [],
   "source": [
    "def first_and_last_index(arr, number):\n",
    "    # search first occurence\n",
    "    first_index = find_start_index(arr, number, 0, len(arr) - 1)\n",
    "    \n",
    "    # search last occurence\n",
    "    last_index =  find_end_index(arr, number, 0, len(arr) - 1)\n",
    "    return [first_index, last_index]\n",
    "\n",
    "\n",
    "def find_start_index(arr, number, start_index, end_index):\n",
    "    # binary search solution to search for the first index of the array\n",
    "    if start_index > end_index:\n",
    "        return -1\n",
    "\n",
    "    mid_index = start_index + (end_index - start_index)//2\n",
    "\n",
    "    if arr[mid_index] == number:\n",
    "        current_start_pos = find_start_index(arr, number, start_index, mid_index - 1)\n",
    "        if current_start_pos != -1:\n",
    "            start_pos = current_start_pos\n",
    "        else:\n",
    "            start_pos = mid_index\n",
    "        return start_pos\n",
    "\n",
    "    elif arr[mid_index] < number:\n",
    "        return find_start_index(arr, number, mid_index + 1, end_index)\n",
    "    else:\n",
    "        return find_start_index(arr, number, start_index, mid_index - 1)\n",
    "\n",
    "\n",
    "def find_end_index(arr, number, start_index, end_index):\n",
    "    # binary search solution to search for the last index of the array\n",
    "    if start_index > end_index:\n",
    "        return  -1\n",
    "\n",
    "    mid_index = start_index + (end_index - start_index)//2\n",
    "\n",
    "    if arr[mid_index] == number:\n",
    "        current_end_pos = find_end_index(arr, number, mid_index + 1, end_index)\n",
    "        if current_end_pos != -1:\n",
    "            end_pos = current_end_pos\n",
    "        else:\n",
    "            end_pos = mid_index\n",
    "        return end_pos\n",
    "    elif arr[mid_index] < number:\n",
    "        return find_end_index(arr, number, mid_index + 1, end_index)\n",
    "    else:\n",
    "        return find_end_index(arr, number, start_index, mid_index - 1)\n"
   ]
  },
  {
   "cell_type": "markdown",
   "metadata": {
    "graffitiCellId": "id_ii2o0tq"
   },
   "source": [
    "Below are several different test cases you can use to check your solution."
   ]
  },
  {
   "cell_type": "code",
   "execution_count": 66,
   "metadata": {
    "graffitiCellId": "id_a8bxvyg"
   },
   "outputs": [],
   "source": [
    "def test_function(test_case):\n",
    "    input_list = test_case[0]\n",
    "    number = test_case[1]\n",
    "    solution = test_case[2]\n",
    "    output = first_and_last_index(input_list, number)\n",
    "    print(output)\n",
    "    if output == solution:\n",
    "        print(\"Pass\")\n",
    "    else:\n",
    "        print(\"Fail\")"
   ]
  },
  {
   "cell_type": "code",
   "execution_count": 67,
   "metadata": {
    "graffitiCellId": "id_20phd4q"
   },
   "outputs": [
    {
     "name": "stdout",
     "output_type": "stream",
     "text": [
      "0\n",
      "[0, 0]\n",
      "Pass\n"
     ]
    }
   ],
   "source": [
    "input_list = [1]\n",
    "number = 1\n",
    "solution = [0, 0]\n",
    "test_case_1 = [input_list, number, solution]\n",
    "test_function(test_case_1)"
   ]
  },
  {
   "cell_type": "code",
   "execution_count": 68,
   "metadata": {
    "graffitiCellId": "id_9p3166p"
   },
   "outputs": [
    {
     "name": "stdout",
     "output_type": "stream",
     "text": [
      "5\n",
      "[3, 6]\n",
      "Pass\n"
     ]
    }
   ],
   "source": [
    "input_list = [0, 1, 2, 3, 3, 3, 3, 4, 5, 6]\n",
    "number = 3\n",
    "solution = [3, 6]\n",
    "test_case_2 = [input_list, number, solution]\n",
    "test_function(test_case_2)"
   ]
  },
  {
   "cell_type": "code",
   "execution_count": 69,
   "metadata": {
    "graffitiCellId": "id_pcvcepp"
   },
   "outputs": [
    {
     "name": "stdout",
     "output_type": "stream",
     "text": [
      "3\n",
      "5\n",
      "[5, 5]\n",
      "Pass\n"
     ]
    }
   ],
   "source": [
    "input_list = [0, 1, 2, 3, 4, 5]\n",
    "number = 5\n",
    "solution = [5, 5]\n",
    "test_case_3 = [input_list, number, solution]\n",
    "test_function(test_case_3)"
   ]
  },
  {
   "cell_type": "code",
   "execution_count": 70,
   "metadata": {
    "graffitiCellId": "id_cz075rp"
   },
   "outputs": [
    {
     "name": "stdout",
     "output_type": "stream",
     "text": [
      "3\n",
      "5\n",
      "[-1, -1]\n",
      "Pass\n"
     ]
    }
   ],
   "source": [
    "input_list = [0, 1, 2, 3, 4, 5]\n",
    "number = 6\n",
    "solution = [-1, -1]\n",
    "test_case_4 = [input_list, number, solution]\n",
    "test_function(test_case_4)"
   ]
  },
  {
   "cell_type": "code",
   "execution_count": null,
   "metadata": {
    "graffitiCellId": "id_3nypdvi"
   },
   "outputs": [],
   "source": []
  }
 ],
 "metadata": {
  "graffiti": {
   "firstAuthorId": "dev",
   "id": "id_qwr7xir",
   "language": "EN"
  },
  "kernelspec": {
   "display_name": "Python 3",
   "language": "python",
   "name": "python3"
  },
  "language_info": {
   "codemirror_mode": {
    "name": "ipython",
    "version": 3
   },
   "file_extension": ".py",
   "mimetype": "text/x-python",
   "name": "python",
   "nbconvert_exporter": "python",
   "pygments_lexer": "ipython3",
   "version": "3.6.3"
  }
 },
 "nbformat": 4,
 "nbformat_minor": 2
}
