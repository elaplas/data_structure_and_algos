{
 "cells": [
  {
   "cell_type": "markdown",
   "metadata": {
    "graffitiCellId": "id_7qqfnwv"
   },
   "source": [
    "### Problem Statement\n",
    "You are given an array `arr` having `n` integers. You have to find the maximum sum of contiguous subarray among all the possible subarrays. This problem is commonly called as [Maximum Subarray Problem](https://en.wikipedia.org/wiki/Maximum_subarray_problem). Solve this problem in *O(nlogn)* time, using Divide and Conquer approach. \n",
    "\n",
    "\n",
    "**Example 1**<br>\n",
    "Input: `arr = [-2, 1, -3, 5, 0, 3, 2, -5, 4]`<br>\n",
    "Output: `Maximum Sum = 10` for the  `subarray = [5, 0, 3, 2]`<br>\n",
    "\n",
    "**Example 2**<br>\n",
    "Input: `arr = [-2, -5, 6, -2, -3, 1, 5, -6]`<br>\n",
    "Output: `Maximum Sum = 7`  for the  `subarray = [6, -2, -3, 1, 5]`<br>\n",
    "\n",
    "***As of now, let's not return the subarray itself.***"
   ]
  },
  {
   "attachments": {},
   "cell_type": "markdown",
   "metadata": {
    "graffitiCellId": "id_7dk56pg"
   },
   "source": [
    "---\n",
    "### The Idea\n",
    "Divide the given array into three subarray w.r.t. the middle, say Left, Right, and Cross subarrays. Recurse on the Left part, and Right part untill you reach the base condition, i.e. single element in a subarray. \n",
    "\n",
    "Calculate the **maximum sum** of the Left, Right, and Cross subarrays, say `L`, `R`, and `C` respectively. **Return the maximum of `L`, `R`, and `C`.** \n",
    "\n",
    "\n",
    "#### Logic to Calculate `C`, the Maximum sum of a \"Cross\" Subarray\n",
    "Start from the middle index, and traverse (sum the elements) in the left direction. Keep track of the maximum sum on the left part, say `leftMaxSum`. Similarly, start from the (middle +1) index, and traverse (sum the elements) in the right direction.  Keep track of the maximum sum on the right part, say `rightMaxSum`. Return the `(leftMaxSum + rightMaxSum)`, as `C`. The following exmaple would help you imagine the solution better:\n",
    "\n",
    "\n",
    "<img style=\"float: center;\" src=\"assets/DNC.png\">\n",
    "<p style=\"text-align:center;\">The solution is 13.</p>\n",
    "\n",
    "--- \n",
    "### Pseudocode and Time Complexity Analysis\n",
    "`maxSubArrayRecursive(arr, start, stop)`&emsp;&emsp;&emsp;&emsp; <font color=\"red\">*T(n)*</font> <br> \n",
    "&emsp;&emsp;` 1. if (start==stop):`<br>\n",
    "&emsp;&emsp;&emsp;&emsp;&emsp;&emsp;`return arr[start]`<br><br>\n",
    "&emsp;&emsp;` 2. Calculate mid index`&emsp;&emsp;&emsp;&emsp;&emsp;&emsp; <font color=\"red\">*constant*</font> <br><br>\n",
    "&emsp;&emsp;` 3. L = maxSubArrayRecursive(arr, start, mid) `&emsp;&emsp;&emsp;&emsp;&emsp;&emsp; <font color=\"red\">*T($\\frac{n}{2}$)*</font> <br><br>\n",
    "&emsp;&emsp;` 4. R = maxSubArrayRecursive(arr, mid+1, stop) `&emsp;&emsp;&emsp;&emsp;&emsp;&emsp; <font color=\"red\">*T($\\frac{n}{2}$)*</font> <br><br>\n",
    "&emsp;&emsp;` 5. C = maxCrossingSum(arr, start, mid, stop) ` &emsp;&emsp;&emsp;&emsp;&emsp;&emsp; <font color=\"red\">*$\\Theta(n)$*</font> <br><br>\n",
    "&emsp;&emsp;` 6. return max(C, max(L,R)) `&emsp;&emsp;&emsp;&emsp;&emsp;&emsp; <font color=\"red\">*constant*</font> <br>\n",
    "<br>\n",
    "\n",
    "Total time of execution $T(n)$ = $2*T(\\frac{n}{2}) + \\Theta(n) \\equiv O(nlogn)$\n",
    "\n",
    "### Exercise - Write the function definition here. "
   ]
  },
  {
   "cell_type": "code",
   "execution_count": 26,
   "metadata": {
    "graffitiCellId": "id_971xrg4"
   },
   "outputs": [],
   "source": [
    "def maxSubArray(arr):\n",
    "    '''\n",
    "    param: An array `arr`\n",
    "    return: The maximum sum of the contiguous subarray. \n",
    "    No need to return the subarray itself.\n",
    "    '''\n",
    "    if len(arr) == 1:\n",
    "        return arr[0]\n",
    "    \n",
    "    if not len(arr):\n",
    "        return 0\n",
    "    \n",
    "    \n",
    "    mid = len(arr) // 2\n",
    "    left_max = arr[mid-1]\n",
    "    left_sum = arr[mid-1]\n",
    "    right_max = arr[mid]\n",
    "    right_sum = arr[mid]\n",
    "    \n",
    "    for i in range(mid-2, -1, -1):\n",
    "        left_sum += arr[i]\n",
    "        if left_sum > left_max:\n",
    "            left_max = left_sum\n",
    "    \n",
    "    for i in range(mid+1, len(arr)):\n",
    "        right_sum += arr[i]\n",
    "        if right_sum > right_max:\n",
    "            right_max = right_sum\n",
    "    \n",
    "    # It is very crucial to calculate the crossing sum from \n",
    "    # the middle point because the array is broken in sub-arrays\n",
    "    # in the mid index. Otherwise we could compute the crossing sum\n",
    "    # simply from the beginning or end of array\n",
    "\n",
    "    C = left_sum + right_sum \n",
    "    L = maxSubArray(arr[:mid])\n",
    "    R = maxSubArray(arr[mid:])\n",
    "    \n",
    "    return max(C, L, R)\n",
    "    \n",
    "    "
   ]
  },
  {
   "cell_type": "code",
   "execution_count": 34,
   "metadata": {},
   "outputs": [
    {
     "name": "stdout",
     "output_type": "stream",
     "text": [
      "9\n",
      "7\n",
      "13\n",
      "6\n"
     ]
    }
   ],
   "source": [
    "# Intuitive approach\n",
    "\n",
    "# Find the max of contiguous longest main array\n",
    "def longest_contiguous_sub(arr):\n",
    "\n",
    "    center_i = len(arr)//2\n",
    "    center_element = arr[center_i]\n",
    "\n",
    "    left_arr = arr[: center_i]\n",
    "    right_arr = arr[center_i+1:]\n",
    "\n",
    "    left_element = lcs_recursive(left_arr)\n",
    "    right_element = lcs_recursive(right_arr[::-1])\n",
    "\n",
    "    return max(\n",
    "        left_element, \n",
    "        right_element, \n",
    "        center_element, \n",
    "        left_element + center_element,\n",
    "        right_element + center_element,\n",
    "        left_element + center_element + right_element)\n",
    "\n",
    "# Find the max of contiguous longest sub-arrays\n",
    "def lcs_recursive(arr):\n",
    "\n",
    "    if not len(arr):\n",
    "        return 0\n",
    "    \n",
    "    if len(arr) == 1:\n",
    "        return arr[0]\n",
    "    \n",
    "\n",
    "    center_i = len(arr)//2\n",
    "    center_element = arr[center_i]\n",
    "\n",
    "    left_arr = arr[: center_i]\n",
    "    right_arr = arr[center_i+1:]\n",
    "\n",
    "    left_element = lcs_recursive(left_arr)\n",
    "    # Reverse the right sub-array otherwise we need to return\n",
    "    # max(left_element, left_element+center_element, left_element+center_element+right_element).\n",
    "    # so to write a simpler logic, the right sub-array is revered \n",
    "    right_element = lcs_recursive(right_arr[::-1])\n",
    "\n",
    "    return max(right_element, right_element + center_element, right_element + center_element + left_element)\n",
    "\n",
    "\n",
    "arr = [5, 3,-2,3,-2,2] # Max 9\n",
    "\n",
    "res = longest_contiguous_sub(arr)\n",
    "print(res)\n",
    "\n",
    "arr = [-2, -5, 6, -2, -3, 1, 5, -6] # Max 7\n",
    "res = longest_contiguous_sub(arr)\n",
    "print(res)\n",
    "\n",
    "\n",
    "arr = [-2, 7, -6, 3, 1, -4, 5, 7] # Max 13\n",
    "res = longest_contiguous_sub(arr)\n",
    "print(res) \n",
    "\n",
    "arr = [-2, 1, -3, 4, -1, 2, 1, -5, 4]  # Max 6\n",
    "res = longest_contiguous_sub(arr)\n",
    "print(res) "
   ]
  },
  {
   "cell_type": "markdown",
   "metadata": {
    "graffitiCellId": "id_ojenmxb"
   },
   "source": [
    "<span class=\"graffiti-highlight graffiti-id_ojenmxb-id_pw4giwj\"><i></i><button>Hide Solution</button></span>"
   ]
  },
  {
   "cell_type": "code",
   "execution_count": 3,
   "metadata": {
    "graffitiCellId": "id_pw4giwj"
   },
   "outputs": [],
   "source": [
    "# Solution\n",
    "\n",
    "'''Helper Function - Find the max crossing sum w.r.t. middle index'''\n",
    "def maxCrossingSum(arr, start, mid,  stop):\n",
    "    '''LEFT PHASE - Traverse the Left part starting from mid element'''\n",
    "    leftSum = arr[mid]                                     # Denotes the sum of left part from mid element to the current element\n",
    "    leftMaxSum = arr[mid]                                  # Keep track of maximum sum\n",
    "    \n",
    "    # Traverse in reverse direction from (mid-1) to start \n",
    "    for i in range(mid-1, start-1, -1):                    # The second argument of range is not inclusive. Third argument is the step size.\n",
    "        leftSum = leftSum + arr[i]\n",
    "        if (leftSum > leftMaxSum):                         # Update leftMaxSum\n",
    "            leftMaxSum = leftSum\n",
    "    \n",
    "    '''RIGHT PHASE - Traverse the Right part, starting from (mid+1)'''\n",
    "    rightSum = arr[mid+1]                                  # Denotes the sum of right part from (mid+1) element to the current element\n",
    "    rightMaxSum = arr[mid+1]                               # Keep track of maximum sum\n",
    "    \n",
    "    # Traverse in forward direction from (mid+2) to stop\n",
    "    for j in range(mid+2, stop+1):                         # The second argument of range is not inclusive\n",
    "        rightSum = rightSum + arr[j]\n",
    "        if (rightSum > rightMaxSum):                       # Update rightMaxSum\n",
    "            rightMaxSum = rightSum\n",
    "    \n",
    "    print(\"start: \", start)\n",
    "    print(\"stop: \", stop)\n",
    "    print(\"leftSum: \", leftMaxSum)\n",
    "    print(\"rightSum: \", rightMaxSum)\n",
    "    print(\"maxSum: \", rightMaxSum + leftMaxSum)\n",
    "\n",
    "    '''Both rightMaxSum and lefttMaxSum each would contain value of atleast one element from the arr'''\n",
    "    return (rightMaxSum + leftMaxSum)\n",
    "\n",
    "'''Recursive function'''\n",
    "def maxSubArrayRecursive(arr, start, stop):                # start and stop are the indices\n",
    "    # Base case\n",
    "    if (start==stop):\n",
    "        return arr[start]\n",
    "\n",
    "    if(start < stop):\n",
    "        mid = (start+stop)//2                              # Get the middle index\n",
    "        L = maxSubArrayRecursive(arr, start, mid)          # Recurse on the Left part\n",
    "        R = maxSubArrayRecursive(arr, mid+1, stop)         # Recurse on the Right part\n",
    "        C = maxCrossingSum(arr, start, mid, stop)\n",
    "        # Find the max crossing sum w.r.t. middle index\n",
    "        return max(C, max(L,R))                            # Return the maximum of (L,R,C)\n",
    "    \n",
    "    else:                                                  # If ever start > stop. Not feasible. \n",
    "        return nums[start]\n",
    "\n",
    "def maxSubArray(arr):\n",
    "    start = 0                      # staring index of original array\n",
    "    stop = len(arr) -1             # ending index of original array\n",
    "    return maxSubArrayRecursive(arr, start, stop)\n"
   ]
  },
  {
   "cell_type": "markdown",
   "metadata": {
    "graffitiCellId": "id_v341rpp"
   },
   "source": [
    "### Test - Let's test your function"
   ]
  },
  {
   "cell_type": "code",
   "execution_count": 32,
   "metadata": {
    "graffitiCellId": "id_1wiu9yd"
   },
   "outputs": [
    {
     "name": "stdout",
     "output_type": "stream",
     "text": [
      "9\n",
      "6\n",
      "1\n",
      "3\n",
      "3\n",
      "0\n",
      "Maximum Sum =  9\n"
     ]
    }
   ],
   "source": [
    "# Test your code\n",
    "arr = [-2, 7, -6, 3, 1, -4, 5, 7] \n",
    "#print(\"Maximum Sum = \",maxSubArray(arr))     # Outputs 13\n",
    "\n",
    "\n",
    "arr = [100,120,-110, 5, 5, 1,-4,5,7]\n",
    "#print(\"Maximum Sum = \",maxSubArray(arr))\n",
    "\n",
    "arr = [5, 3, -2, 3, 0, -2, 2]\n",
    "print(\"Maximum Sum = \",maxSubArray(arr))\n",
    "\n"
   ]
  },
  {
   "cell_type": "code",
   "execution_count": 3,
   "metadata": {
    "graffitiCellId": "id_8kcxisn"
   },
   "outputs": [
    {
     "name": "stdout",
     "output_type": "stream",
     "text": [
      "Maximum Sum =  6\n"
     ]
    }
   ],
   "source": [
    "# Test your code\n",
    "arr = [-2, 1, -3, 4, -1, 2, 1, -5, 4] \n",
    "print(\"Maximum Sum = \",maxSubArray(arr))     # Outputs 6"
   ]
  },
  {
   "cell_type": "code",
   "execution_count": 4,
   "metadata": {
    "graffitiCellId": "id_53cg7v6"
   },
   "outputs": [
    {
     "name": "stdout",
     "output_type": "stream",
     "text": [
      "Maximum Sum =  15\n"
     ]
    }
   ],
   "source": [
    "# Test your code\n",
    "arr = [-4, 14, -6, 7] \n",
    "print(\"Maximum Sum = \",maxSubArray(arr))     # Outputs 15"
   ]
  },
  {
   "cell_type": "code",
   "execution_count": 5,
   "metadata": {
    "graffitiCellId": "id_876ybhp"
   },
   "outputs": [
    {
     "name": "stdout",
     "output_type": "stream",
     "text": [
      "Maximum Sum =  10\n"
     ]
    }
   ],
   "source": [
    "# Test your code\n",
    "arr = [-2, 1, -3, 5, 0, 3, 2, -5, 4]\n",
    "print(\"Maximum Sum = \",maxSubArray(arr))     # Outputs 10"
   ]
  },
  {
   "cell_type": "code",
   "execution_count": 6,
   "metadata": {
    "graffitiCellId": "id_1fallee"
   },
   "outputs": [
    {
     "name": "stdout",
     "output_type": "stream",
     "text": [
      "Maximum Sum =  7\n"
     ]
    }
   ],
   "source": [
    "# Test your code\n",
    "arr = [-2, -5, 6, -2, -3, 1, 5, -6]\n",
    "print(\"Maximum Sum = \",maxSubArray(arr))     # Outputs 7"
   ]
  },
  {
   "cell_type": "code",
   "execution_count": null,
   "metadata": {
    "graffitiCellId": "id_jkeptss"
   },
   "outputs": [],
   "source": []
  }
 ],
 "metadata": {
  "graffiti": {
   "firstAuthorId": "af9e0b36-2ad2-11ea-83c4-a78dc7ef519f",
   "id": "id_d58m4fr",
   "language": "EN"
  },
  "kernelspec": {
   "display_name": "Python 3.9.7 64-bit (system)",
   "language": "python",
   "name": "python3"
  },
  "language_info": {
   "codemirror_mode": {
    "name": "ipython",
    "version": 3
   },
   "file_extension": ".py",
   "mimetype": "text/x-python",
   "name": "python",
   "nbconvert_exporter": "python",
   "pygments_lexer": "ipython3",
   "version": "3.9.7"
  },
  "vscode": {
   "interpreter": {
    "hash": "3bf3674cd89740adb5f9ab63e622025c6a619861e4faec18e5a2648481db3714"
   }
  }
 },
 "nbformat": 4,
 "nbformat_minor": 2
}
