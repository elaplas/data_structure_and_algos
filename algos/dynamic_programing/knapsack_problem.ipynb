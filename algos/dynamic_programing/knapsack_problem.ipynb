{
 "cells": [
  {
   "cell_type": "markdown",
   "metadata": {
    "graffitiCellId": "id_afkw8pd"
   },
   "source": [
    "# Knapsack Problem\n",
    "Now that you saw the dynamic programming solution for the knapsack problem, it's time to implement it. Assume you are given two things:\n",
    "1. The `items`, each having its associated weight (kg) and value ($\\$$). \n",
    "1. A knapsack  that can hold a maximum weight of `knapsack_max_weight` (kg).\n",
    "\n",
    "Use dynamic programming to implement the function `knapsack_max_value()` to **return the maximum total value**  of items that can be accommodated into the given knapsack.\n",
    "\n",
    "\n",
    "**Note** - The `items` variable is the type `Item`, which is a [named tuple](https://docs.python.org/3/library/collections.html#collections.namedtuple)."
   ]
  },
  {
   "cell_type": "code",
   "execution_count": 3,
   "metadata": {
    "graffitiCellId": "id_epldr9d"
   },
   "outputs": [
    {
     "name": "stdout",
     "output_type": "stream",
     "text": [
      "(13, 25)\n"
     ]
    }
   ],
   "source": [
    "# Helper code\n",
    "import collections\n",
    "\n",
    "# An item can be represented as a namedtuple\n",
    "Item = collections.namedtuple('Item', ['weight', 'value'])\n",
    "\n",
    "\n",
    "def knapsack_max_value(knapsack_max_weight, items):\n",
    "    return knapsack_max_val_recursive(items, knapsack_max_weight, 0,0,0)\n",
    "    \n",
    "# All possible combinations (2^n) are formed using recursions then the max result \n",
    "# is returned on each recursion\n",
    "def knapsack_max_val_recursive(items, max_weight, sum_val, sum_weight, i):\n",
    "    \n",
    "    if i >= len(items):\n",
    "        return sum_val, sum_weight\n",
    "\n",
    "    \n",
    "    val1, weight1 = knapsack_max_val_recursive(items, \n",
    "                                      max_weight,\n",
    "                                      sum_val + items[i].value, \n",
    "                                      sum_weight + items[i].weight,\n",
    "                                      i+1)\n",
    "    \n",
    "    val2, weight2 = knapsack_max_val_recursive(items,\n",
    "                                      max_weight,\n",
    "                                      sum_val,\n",
    "                                      sum_weight,\n",
    "                                      i+1)\n",
    "    \n",
    "    if weight1 > max_weight and weight2 > max_weight:\n",
    "        return 0,0\n",
    "    elif weight1 > max_weight and weight2 <= max_weight:\n",
    "        return val2, weight2\n",
    "    elif weight1 <= max_weight and weight2 > max_weight:\n",
    "        return val1, weight1\n",
    "    else:\n",
    "        if val1 > val2:\n",
    "            return val1, weight1\n",
    "        else:\n",
    "            return val2, weight2\n",
    "\n",
    "\n",
    "items = [Item(10, 2), Item(29, 10), Item(5, 7), Item(5, 3), Item(5, 1), Item(24, 12)]\n",
    "knapsack_max_weight = 25\n",
    "\n",
    "output = knapsack_max_value(knapsack_max_weight, items)\n",
    "print(output)\n"
   ]
  },
  {
   "cell_type": "markdown",
   "metadata": {
    "graffitiCellId": "id_hi7z6d8"
   },
   "source": [
    "\n",
    "### The Naive Approach - Based on Recursion:\n",
    "The idea is, for each given item, if the item-weight is less than the remaining capacity (kg) of the knapsack, then calculate the value ($\\$$) of the knapsack if we:\n",
    "1. **Do not put the item in the knapsack** - Value ($\\$$) of the knapsack will be the output of the `knapsack_recursive()` function, with the same remaining capacity, and check for the next item down the list.  \n",
    "1. **Put the item in the knapsack** - Value ($\\$$) of the knapsack will be the **sum** of the current value of the item and output of the `knapsack_recursive()` function,  with **updated** remaining capacity, and check for the next item down the list.  \n",
    "\n",
    "Return the **maximum of either of the above two values**. In `knapsack_recursive()` function, begin with developing the solution for the base case i.e., smallest subproblem. \n",
    "\n",
    "**Note** - Below is the implementation of this naive approach with recursion, that has an exponential time complexity as $O(2^n)$, where $n$ is the number of given items, becuase we are evaluating both the two options (put/not put) for each given item."
   ]
  },
  {
   "cell_type": "code",
   "execution_count": null,
   "metadata": {
    "graffitiCellId": "id_3gizrc0"
   },
   "outputs": [],
   "source": [
    "# Naive Approach based on Recursion\n",
    "def knapsack_max_value(knapsack_max_weight, items):\n",
    "    lastIndex = len(items) - 1\n",
    "    return knapsack_recursive(knapsack_max_weight, items, lastIndex)\n",
    "\n",
    "\n",
    "def knapsack_recursive(capacity, items, lastIndex):\n",
    "    # Base case\n",
    "    if (capacity <= 0) or (lastIndex<0):\n",
    "        return 0\n",
    "    \n",
    "    # Put the item in the knapsack\n",
    "    valueA = 0\n",
    "    if (items[lastIndex].weight <= capacity):\n",
    "        valueA = items[lastIndex].value + knapsack_recursive(capacity - items[lastIndex].weight, items, lastIndex - 1)\n",
    "\n",
    "    \n",
    "    # Do not put the item in the knapsack\n",
    "    valueB = knapsack_recursive(capacity, items, lastIndex - 1)\n",
    "    \n",
    "    # Pick the maximum of the two results\n",
    "    result = max(valueA, valueB)\n",
    "    \n",
    "    return result"
   ]
  },
  {
   "cell_type": "markdown",
   "metadata": {
    "graffitiCellId": "id_hzdbfpj"
   },
   "source": [
    "### The Approach - Dynamic Programming\n",
    "Store and reuse the intermediate results in a lookup table. This step is called memoization. Start with initializing a lookup table (a list), where the index represents the remaining capacity (kg) of the knapsack, and the element represents the maximum value ($\\$$) that it can hold. \n",
    "\n",
    "For a given item, if the item-weight is less than the remaining capacity (kg) of the knapsack, then we have two options:\n",
    "1. **Do not pick the item** - In this case, the value ($\\$$) of knapsack with the remaining capacity would not change. It can be represented as `lookup_table[capacity]`.\n",
    "1. **Pick the item** - In this case, the value ($\\$$) and capacity (kg) of the knapsack would be updated. The value ($\\$$) of the knapsack will be equal to value ($\\$$) of the current object + value ($\\$$) in the lookup table at `[capacity - item.weight]` position. It can be represented as `lookup_table[capacity - item.weight] + item.value`. \n",
    "\n",
    "Update the lookup table, `lookup_table[capacity]`,  with the **maximum of either of the above two values**.  \n",
    "\n",
    "**Note** - This approach with dynamic programming will have a time complexity as $O(2nC) \\equiv O(nC)$, where $n$ is the number of given items and $C$ is the max capacity (kg) of the knapsack. "
   ]
  },
  {
   "cell_type": "markdown",
   "metadata": {
    "graffitiCellId": "id_49eh9ss"
   },
   "source": [
    "### Exercise - Write the function definition here"
   ]
  },
  {
   "cell_type": "code",
   "execution_count": 14,
   "metadata": {
    "graffitiCellId": "id_p48fhwc"
   },
   "outputs": [
    {
     "name": "stdout",
     "output_type": "stream",
     "text": [
      "13\n"
     ]
    }
   ],
   "source": [
    "# Dynamic programming:\n",
    "# Instead of generating all combinations at once and then select the best one, the combinations are formed iteratively \n",
    "# and stored which reduces the time complexity and break the problem into samller problems  \n",
    "\n",
    "def knapsack_max_value(knapsack_max_weight, items):\n",
    "    \"\"\"\n",
    "    Get the maximum value of the knapsack.\n",
    "    \"\"\"\n",
    "    \n",
    "    visited = {}\n",
    "    cur_max_val = 0\n",
    "    #items = sorted(items, key=lambda x: (x.weight, -x.value))\n",
    "    \n",
    "    for item in items:\n",
    "        if item.weight <= knapsack_max_weight:\n",
    "            new_visited = {}\n",
    "            \n",
    "            # Check if the current item should be put in the \"visited\n",
    "            if item.weight not in visited:\n",
    "                new_visited[item.weight] = item.value\n",
    "            else:\n",
    "                if item.value > visited[item.weight]:\n",
    "                    new_visited[item.weight] = item.value\n",
    "                    \n",
    "            # Update max value            \n",
    "            if item.value > cur_max_val:\n",
    "                cur_max_val = item.value\n",
    "            \n",
    "            # Form new combinations and store the results\n",
    "            for weight in visited:\n",
    "                    \n",
    "                if weight + item.weight <= knapsack_max_weight:\n",
    "                        \n",
    "                    if weight + item.weight not in visited:\n",
    "                        new_visited[weight + item.weight] = visited[weight] + item.value\n",
    "                    else:\n",
    "                        if visited[weight]+ item.value > visited[weight + item.weight]:\n",
    "                            new_visited[weight + item.weight] = visited[weight] + item.value\n",
    "                            \n",
    "                     # Update max value                                                       \n",
    "                    if visited[weight] + item.value > cur_max_val:\n",
    "                        cur_max_val = visited[weight] + item.value\n",
    "                        \n",
    "            # Copy new combinations to \"visited\" map            \n",
    "            for key in new_visited:\n",
    "                visited[key] = new_visited[key]\n",
    "                           \n",
    "    return cur_max_val\n",
    "                        \n",
    "                            \n",
    "\n",
    "items = [Item(10, 2), Item(29, 10), Item(5, 7), Item(5, 3), Item(5, 1), Item(24, 12)]\n",
    "max_weight = 25\n",
    "\n",
    "res = knapsack_max_value(max_weight, items)\n",
    "print(res)\n",
    "\n",
    "                \n",
    "            \n",
    "    "
   ]
  },
  {
   "cell_type": "markdown",
   "metadata": {
    "graffitiCellId": "id_sczu399"
   },
   "source": [
    "<span class=\"graffiti-highlight graffiti-id_sczu399-id_vljhmf7\"><i></i><button>Hide Solution</button></span>"
   ]
  },
  {
   "cell_type": "code",
   "execution_count": null,
   "metadata": {
    "graffitiCellId": "id_vljhmf7"
   },
   "outputs": [],
   "source": [
    "# DP Solution\n",
    "# Get the maximum total value ($) of items that can be accommodated into the given knapsack\n",
    "def knapsack_max_value(knapsack_max_weight, items):\n",
    "    \n",
    "    # Initialize a lookup table to store the maximum value ($) \n",
    "    lookup_table = [0] * (knapsack_max_weight + 1)\n",
    "\n",
    "\n",
    "    # Iterate down the given list\n",
    "    for item in items:\n",
    "        \n",
    "        # The \"capcacity\" represents amount of remaining capacity (kg) of knapsack at a given moment. \n",
    "        for capacity in reversed(range(knapsack_max_weight + 1)):\n",
    "            \n",
    "            if item.weight <= capacity:\n",
    "                lookup_table[capacity] = max(lookup_table[capacity], lookup_table[capacity - item.weight] + item.value)\n",
    "\n",
    "    return lookup_table[-1]"
   ]
  },
  {
   "cell_type": "markdown",
   "metadata": {
    "graffitiCellId": "id_73a9skj"
   },
   "source": [
    "### Test - Let's test your function"
   ]
  },
  {
   "cell_type": "code",
   "execution_count": 7,
   "metadata": {
    "graffitiCellId": "id_2t8k6dk"
   },
   "outputs": [
    {
     "name": "stdout",
     "output_type": "stream",
     "text": [
      "14\n",
      "12\n"
     ]
    },
    {
     "ename": "AssertionError",
     "evalue": "",
     "output_type": "error",
     "traceback": [
      "\u001b[0;31m---------------------------------------------------------------------------\u001b[0m",
      "\u001b[0;31mAssertionError\u001b[0m                            Traceback (most recent call last)",
      "\u001b[0;32m<ipython-input-7-1fd1434bc1f4>\u001b[0m in \u001b[0;36m<module>\u001b[0;34m()\u001b[0m\n\u001b[1;32m     13\u001b[0m                 'items': [Item(10, 2), Item(29, 10), Item(5, 7), Item(5, 3), Item(5, 1), Item(24, 12)]}}]\n\u001b[1;32m     14\u001b[0m \u001b[0;32mfor\u001b[0m \u001b[0mtest\u001b[0m \u001b[0;32min\u001b[0m \u001b[0mtests\u001b[0m\u001b[0;34m:\u001b[0m\u001b[0;34m\u001b[0m\u001b[0m\n\u001b[0;32m---> 15\u001b[0;31m     \u001b[0;32massert\u001b[0m \u001b[0mtest\u001b[0m\u001b[0;34m[\u001b[0m\u001b[0;34m'correct_output'\u001b[0m\u001b[0;34m]\u001b[0m \u001b[0;34m==\u001b[0m \u001b[0mknapsack_max_value\u001b[0m\u001b[0;34m(\u001b[0m\u001b[0;34m**\u001b[0m\u001b[0mtest\u001b[0m\u001b[0;34m[\u001b[0m\u001b[0;34m'input'\u001b[0m\u001b[0;34m]\u001b[0m\u001b[0;34m)\u001b[0m\u001b[0;34m\u001b[0m\u001b[0m\n\u001b[0m",
      "\u001b[0;31mAssertionError\u001b[0m: "
     ]
    }
   ],
   "source": [
    "tests = [\n",
    "    {\n",
    "        'correct_output': 14,\n",
    "        'input':\n",
    "            {\n",
    "                'knapsack_max_weight': 15,\n",
    "                'items': [Item(10, 7), Item(9, 8), Item(5, 6)]}},\n",
    "    {\n",
    "        'correct_output': 13,\n",
    "        'input':\n",
    "            {\n",
    "                'knapsack_max_weight': 25,\n",
    "                'items': [Item(10, 2), Item(29, 10), Item(5, 7), Item(5, 3), Item(5, 1), Item(24, 12)]}}]\n",
    "for test in tests:\n",
    "    assert test['correct_output'] == knapsack_max_value(**test['input'])"
   ]
  },
  {
   "cell_type": "code",
   "execution_count": null,
   "metadata": {
    "graffitiCellId": "id_wodkwis"
   },
   "outputs": [],
   "source": []
  }
 ],
 "metadata": {
  "graffiti": {
   "firstAuthorId": "dev",
   "id": "id_c8cwdgc",
   "language": "EN"
  },
  "kernelspec": {
   "display_name": "Python 3",
   "language": "python",
   "name": "python3"
  },
  "language_info": {
   "codemirror_mode": {
    "name": "ipython",
    "version": 3
   },
   "file_extension": ".py",
   "mimetype": "text/x-python",
   "name": "python",
   "nbconvert_exporter": "python",
   "pygments_lexer": "ipython3",
   "version": "3.6.3"
  }
 },
 "nbformat": 4,
 "nbformat_minor": 2
}
