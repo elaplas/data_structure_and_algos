{
 "cells": [
  {
   "cell_type": "markdown",
   "metadata": {
    "graffitiCellId": "id_pxg59hb"
   },
   "source": [
    "# Coin Change\n",
    "\n",
    "You are given coins of different denominations and a total amount of money. Write a function to compute the fewest coins needed to make up that amount. If that amount of money cannot be made up by any combination of the coins, return `-1`.\n",
    "\n",
    "As an example:\n",
    "* Input: `coins = [1, 2, 3]`, `amount = 6`\n",
    "* Output: `2`\n",
    "* Explanation: The output is `2` because we can use `2` coins with value `3`. That is, `6 = 3 + 3`. We could also use `3` coins with value `2` (that is, `6 = 2 + 2 + 2`), but this would use more coins—and the problem specifies we should use the smallest number of coins possible.\n",
    "\n",
    "There's test code below that you can use to check your solution. And at the bottom of the notebook, you'll find two different possible solutions."
   ]
  },
  {
   "cell_type": "code",
   "execution_count": null,
   "metadata": {},
   "outputs": [],
   "source": [
    "def coin_change(amount, coins):\n",
    "\n",
    "    if amount == 0:\n",
    "        return 0\n",
    "    \n",
    "    if amount < 0:\n",
    "        return 1000000\n",
    "    \n",
    "    res = []\n",
    "    for c in coins:\n",
    "        res.append(1+coin_change(amount-c, coins))\n",
    "\n",
    "    return min(res)\n",
    "\n",
    "res = coin_change(6, [1, 2 , 3])\n",
    "print(res)\n"
   ]
  },
  {
   "cell_type": "code",
   "execution_count": 34,
   "metadata": {
    "graffitiCellId": "id_n12iz5t"
   },
   "outputs": [],
   "source": [
    "\n",
    "def coin_change(coins, amount):\n",
    "    \n",
    "    coins = sorted(coins, key=lambda x: -x)\n",
    "    \n",
    "    reminder = amount\n",
    "    min_num_coins = 0\n",
    "    i = 0\n",
    "    \n",
    "    while reminder and i < len(coins):\n",
    "        min_num_coins += (reminder // coins[i]) \n",
    "        reminder = reminder % coins[i]\n",
    "        i += 1\n",
    "        \n",
    "    if not reminder:\n",
    "        return min_num_coins\n",
    "    else:\n",
    "        return -1\n",
    "    \n",
    "    "
   ]
  },
  {
   "cell_type": "code",
   "execution_count": 35,
   "metadata": {
    "graffitiCellId": "id_g1vpolv"
   },
   "outputs": [],
   "source": [
    "def test_function(test_case):\n",
    "    arr = test_case[0]\n",
    "    amount = test_case[1]\n",
    "    solution = test_case[2]\n",
    "    output = coin_change(arr, amount)\n",
    "    print(output)\n",
    "    if output == solution:\n",
    "        print(\"Pass\")\n",
    "    else:\n",
    "        print(\"Fail\")"
   ]
  },
  {
   "cell_type": "code",
   "execution_count": 36,
   "metadata": {
    "graffitiCellId": "id_cqdyyun"
   },
   "outputs": [
    {
     "name": "stdout",
     "output_type": "stream",
     "text": [
      "3\n",
      "Pass\n"
     ]
    }
   ],
   "source": [
    "arr = [1,2,5]\n",
    "amount = 11\n",
    "solution = 3\n",
    "test_case = [arr, amount, solution]\n",
    "test_function(test_case)"
   ]
  },
  {
   "cell_type": "code",
   "execution_count": 37,
   "metadata": {
    "graffitiCellId": "id_91p1cz0"
   },
   "outputs": [
    {
     "name": "stdout",
     "output_type": "stream",
     "text": [
      "4\n",
      "Pass\n"
     ]
    }
   ],
   "source": [
    "arr = [1,4,5,6]\n",
    "amount = 23\n",
    "solution = 4\n",
    "test_case = [arr, amount, solution]\n",
    "test_function(test_case)"
   ]
  },
  {
   "cell_type": "code",
   "execution_count": 38,
   "metadata": {
    "graffitiCellId": "id_mo17gzo"
   },
   "outputs": [
    {
     "name": "stdout",
     "output_type": "stream",
     "text": [
      "-1\n",
      "Pass\n"
     ]
    }
   ],
   "source": [
    "arr = [5,7,8]\n",
    "amount = 2\n",
    "solution = -1\n",
    "test_case = [arr, amount, solution]\n",
    "test_function(test_case)"
   ]
  },
  {
   "cell_type": "markdown",
   "metadata": {
    "graffitiCellId": "id_jjdrdzm"
   },
   "source": [
    "## Solutions\n",
    "\n",
    "Let's look at two different solutions. Here's one way to do it...\n",
    "\n",
    "<span class=\"graffiti-highlight graffiti-id_jjdrdzm-id_fpk926y\"><i></i><button>Hide Solution One</button></span>"
   ]
  },
  {
   "cell_type": "code",
   "execution_count": null,
   "metadata": {
    "graffitiCellId": "id_fpk926y"
   },
   "outputs": [],
   "source": [
    "# Solution One\n",
    "\n",
    "# Let's assume F(Amount) is the minimum number of coins needed to make a change from coins [C0, C1, C2...Cn-1]\n",
    "# Then, we know that F(Amount) = min(F(Amount-C0), F(Amount-C1), F(Amount-C2)...F(Amount-Cn-1)) + 1\n",
    "\n",
    "# Base Cases: \n",
    "    # when Amount == 0: F(Amount) = 0\n",
    "    # when Amount < 0: F(Amount) =  float('inf')\n",
    "\n",
    "def coin_change(coins, amount):\n",
    "    # Create a memo that will storing the fewest coins with given amount\n",
    "    # that we have already calculated so that we do not have to do the\n",
    "    # calculation again.\n",
    "    memo = {}\n",
    "    \n",
    "    def return_change(remaining):\n",
    "        # Base cases\n",
    "        if remaining < 0:  return float('inf')\n",
    "        if remaining == 0: return 0 \n",
    "        \n",
    "        # Check if we have already calculated\n",
    "        if remaining not in memo:\n",
    "            # If not previously calculated, calculate it by calling return_change with the remaining amount\n",
    "            memo[remaining] = min(return_change(remaining - c) + 1 for c in coins)\n",
    "        return memo[remaining]\n",
    "    \n",
    "    res = return_change(amount)\n",
    "    \n",
    "    # return -1 when no change found\n",
    "    return -1 if res == float('inf') else res\n"
   ]
  },
  {
   "cell_type": "code",
   "execution_count": null,
   "metadata": {
    "graffitiCellId": "id_9z3z0e0"
   },
   "outputs": [],
   "source": [
    "# Solution Two\n",
    "\n",
    "# We initiate F[Amount] to be float('inf') and F[0] = 0\n",
    "# Let F[Amount] to be the minimum number of coins needed to get change for the Amount.\n",
    "# F[Amount + coin] = min(F(Amount + coin), F(Amount) + 1) if F[Amount] is reachable.\n",
    "# F[Amount + coin] = F(Amount + coin) if F[Amount] is not reachable.\n",
    "\n",
    "def coin_change(coins, amount):\n",
    "    # initiate the list with length amount + 1 and prefill with float('inf')\n",
    "    res = [float('inf')]*(amount + 1)\n",
    "    \n",
    "    # when amount = 0, 0 number of coins will be needed for the change\n",
    "    res[0] = 0\n",
    "    \n",
    "    i = 0\n",
    "    while (i < amount):\n",
    "        if res[i] != float('inf'):\n",
    "            for coin in coins:\n",
    "                if i <= amount - coin:\n",
    "                    res[i+coin] = min(res[i] + 1, res[i+coin])\n",
    "        i += 1\n",
    "\n",
    "    if res[amount] == float('inf'):\n",
    "        return -1\n",
    "    return res[amount]\n",
    "        \n"
   ]
  },
  {
   "cell_type": "code",
   "execution_count": null,
   "metadata": {},
   "outputs": [
    {
     "ename": "",
     "evalue": "",
     "output_type": "error",
     "traceback": [
      "\u001b[1;31mThe kernel failed to start as a dll could not be loaded.\n",
      "\u001b[1;31mClick <a href='https://aka.ms/kernelFailuresDllLoad'>here</a> for more info."
     ]
    }
   ],
   "source": [
    "\n",
    "# Greedy algo\n",
    "counter_greedy = [0]\n",
    "def coin_change_helper_greedy(coins, target):\n",
    "\n",
    "    if target == 0:\n",
    "        return 0\n",
    "\n",
    "    counter_greedy[0] += 1 \n",
    "\n",
    "    results = []\n",
    "    for c in coins:\n",
    "        if target - c >= 0:\n",
    "            res = 1 + coin_change_helper_greedy(coins, target-c)\n",
    "            results.append(res)\n",
    "        \n",
    "    if len(results):\n",
    "        return min(results)\n",
    "    else:\n",
    "        return -1\n",
    "\n",
    "def coin_change_greedy(coins, target):\n",
    "    res = coin_change_helper_greedy(coins, target)\n",
    "    print(\"num of calls (greedy algo): \", counter_greedy[0])\n",
    "    return res\n",
    "\n",
    "\n",
    "# Dynamic programming algo\n",
    "memo = {}\n",
    "counter_dp = [0]\n",
    "def coin_change_helper_dp(coins, target):\n",
    "\n",
    "    if target == 0:\n",
    "        return 0\n",
    "\n",
    "    if target in memo:\n",
    "        #print(\"target: \", target)\n",
    "        #print(\"memo: \", memo[target])\n",
    "        return memo[target]\n",
    "\n",
    "    counter_dp[0] += 1 \n",
    "\n",
    "    results = []\n",
    "    for c in coins:\n",
    "        if target - c >= 0:\n",
    "            res = 1 + coin_change_helper_dp(coins, target-c)\n",
    "            results.append(res)\n",
    "        \n",
    "    if len(results):\n",
    "        memo[target] = min(results)\n",
    "        return min(results)\n",
    "    else:\n",
    "        return -1\n",
    "\n",
    "\n",
    "def coin_change_dp(coins, target):\n",
    "    res = coin_change_helper_dp(coins, target)\n",
    "    print(\"num of calls (dp algo): \", counter_dp[0])\n",
    "    return res\n",
    "\n",
    "\n",
    "coins = [1,4,5,6]\n",
    "res = coin_change_greedy(coins, 23)\n",
    "print(\"greedy algo result: \", res)\n",
    "\n",
    "\n",
    "coins = [1,4,5,6]\n",
    "res = coin_change_dp(coins, 23)\n",
    "print(\"dp algo result: \", res)"
   ]
  },
  {
   "cell_type": "markdown",
   "metadata": {
    "graffitiCellId": "id_om55y5v"
   },
   "source": [
    "And here's another possibility:\n",
    "\n",
    "<span class=\"graffiti-highlight graffiti-id_bmrwntc-id_9z3z0e0\"><i></i><button>Show Solution Two</button></span>"
   ]
  }
 ],
 "metadata": {
  "graffiti": {
   "firstAuthorId": "10694620118",
   "id": "id_0hxxyvu",
   "language": "EN"
  },
  "kernelspec": {
   "display_name": "Python 3.9.7 64-bit (system)",
   "language": "python",
   "name": "python3"
  },
  "language_info": {
   "codemirror_mode": {
    "name": "ipython",
    "version": 3
   },
   "file_extension": ".py",
   "mimetype": "text/x-python",
   "name": "python",
   "nbconvert_exporter": "python",
   "pygments_lexer": "ipython3",
   "version": "3.9.7"
  },
  "vscode": {
   "interpreter": {
    "hash": "3bf3674cd89740adb5f9ab63e622025c6a619861e4faec18e5a2648481db3714"
   }
  }
 },
 "nbformat": 4,
 "nbformat_minor": 2
}
